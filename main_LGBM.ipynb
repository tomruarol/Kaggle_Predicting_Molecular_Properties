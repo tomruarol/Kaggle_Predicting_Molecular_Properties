{
 "cells": [
  {
   "cell_type": "markdown",
   "metadata": {},
   "source": [
    "# Main Script for LGBM Model"
   ]
  },
  {
   "cell_type": "markdown",
   "metadata": {},
   "source": [
    "## Imports"
   ]
  },
  {
   "cell_type": "code",
   "execution_count": 2,
   "metadata": {},
   "outputs": [],
   "source": [
    "# Imports\n",
    "import numpy as np\n",
    "import pandas as pd\n",
    "import datetime as dt\n",
    "from sklearn import tree\n",
    "from sklearn.metrics import accuracy_score\n",
    "import warnings\n",
    "warnings.filterwarnings('ignore')\n",
    "\n",
    "# Graphics\n",
    "import matplotlib.pyplot as plt\n",
    "import seaborn as sns\n",
    "# Map\n",
    "import importlib\n",
    "mpl_toolkits = importlib.import_module('mpl_toolkits')\n",
    "import mpl_toolkits\n",
    "#from mpl_toolkits.basemap import Basemap\n",
    "# Figures inline and set visualization style\n",
    "%matplotlib inline\n",
    "sns.set() #Different type of visualization\n",
    "\n",
    "# Show multiple statements at once\n",
    "from IPython.core.interactiveshell import InteractiveShell\n",
    "InteractiveShell.ast_node_interactivity = \"all\"\n",
    "\n",
    "# Gradient Boosting\n",
    "import lightgbm as lgb\n",
    "\n",
    "# Scikit-learn\n",
    "from sklearn.metrics import mean_squared_error\n",
    "from sklearn.model_selection import KFold\n",
    "from sklearn.preprocessing import LabelEncoder\n",
    "\n",
    "# Preprocessing\n",
    "from sklearn.preprocessing import MinMaxScaler,StandardScaler,Imputer,LabelEncoder,PolynomialFeatures"
   ]
  },
  {
   "cell_type": "markdown",
   "metadata": {},
   "source": [
    "## EDA"
   ]
  },
  {
   "cell_type": "code",
   "execution_count": 3,
   "metadata": {},
   "outputs": [],
   "source": [
    "# Train Data\n",
    "train = pd.read_csv('input/train.csv')\n",
    "\n",
    "# Test Data\n",
    "test = pd.read_csv('input/test.csv')\n",
    "\n",
    "# Submission Data\n",
    "sub = pd.read_csv('input/sample_submission.csv')"
   ]
  },
  {
   "cell_type": "code",
   "execution_count": 4,
   "metadata": {},
   "outputs": [
    {
     "name": "stdout",
     "output_type": "stream",
     "text": [
      "<class 'pandas.core.frame.DataFrame'>\n",
      "RangeIndex: 4658147 entries, 0 to 4658146\n",
      "Data columns (total 6 columns):\n",
      "id                          int64\n",
      "molecule_name               object\n",
      "atom_index_0                int64\n",
      "atom_index_1                int64\n",
      "type                        object\n",
      "scalar_coupling_constant    float64\n",
      "dtypes: float64(1), int64(3), object(2)\n",
      "memory usage: 213.2+ MB\n",
      "#################################################\n",
      "#################################################\n",
      "<class 'pandas.core.frame.DataFrame'>\n",
      "RangeIndex: 2505542 entries, 0 to 2505541\n",
      "Data columns (total 5 columns):\n",
      "id               int64\n",
      "molecule_name    object\n",
      "atom_index_0     int64\n",
      "atom_index_1     int64\n",
      "type             object\n",
      "dtypes: int64(3), object(2)\n",
      "memory usage: 95.6+ MB\n"
     ]
    }
   ],
   "source": [
    "# We take a first look at the dataset\n",
    "train.info()\n",
    "print ('#################################################')\n",
    "print ('#################################################')\n",
    "test.info()"
   ]
  },
  {
   "cell_type": "markdown",
   "metadata": {},
   "source": [
    "### Label Encoding"
   ]
  },
  {
   "cell_type": "code",
   "execution_count": 5,
   "metadata": {},
   "outputs": [],
   "source": [
    "categoricals = train.select_dtypes(include='object').columns\n",
    "categoricals = test.select_dtypes(include='object').columns"
   ]
  },
  {
   "cell_type": "code",
   "execution_count": 6,
   "metadata": {},
   "outputs": [
    {
     "data": {
      "text/plain": [
       "LabelEncoder()"
      ]
     },
     "execution_count": 6,
     "metadata": {},
     "output_type": "execute_result"
    },
    {
     "data": {
      "text/plain": [
       "LabelEncoder()"
      ]
     },
     "execution_count": 6,
     "metadata": {},
     "output_type": "execute_result"
    }
   ],
   "source": [
    "for c in categoricals:\n",
    "    lbl = LabelEncoder()\n",
    "    lbl.fit(list(train[c].values))\n",
    "    train[c] = lbl.transform(list(train[c].values))"
   ]
  },
  {
   "cell_type": "code",
   "execution_count": 7,
   "metadata": {},
   "outputs": [
    {
     "data": {
      "text/plain": [
       "LabelEncoder()"
      ]
     },
     "execution_count": 7,
     "metadata": {},
     "output_type": "execute_result"
    },
    {
     "data": {
      "text/plain": [
       "LabelEncoder()"
      ]
     },
     "execution_count": 7,
     "metadata": {},
     "output_type": "execute_result"
    }
   ],
   "source": [
    "for c in categoricals:\n",
    "    lbl = LabelEncoder()\n",
    "    lbl.fit(list(test[c].values))\n",
    "    test[c] = lbl.transform(list(test[c].values))"
   ]
  },
  {
   "cell_type": "markdown",
   "metadata": {},
   "source": [
    "## Modeling"
   ]
  },
  {
   "cell_type": "code",
   "execution_count": 9,
   "metadata": {},
   "outputs": [],
   "source": [
    "# We define de label\n",
    "y = train['scalar_coupling_constant']"
   ]
  },
  {
   "cell_type": "code",
   "execution_count": 10,
   "metadata": {},
   "outputs": [],
   "source": [
    "# We save the molecule names\n",
    "molecules = train.pop('molecule_name')"
   ]
  },
  {
   "cell_type": "code",
   "execution_count": 11,
   "metadata": {},
   "outputs": [
    {
     "name": "stdout",
     "output_type": "stream",
     "text": [
      "<class 'pandas.core.frame.DataFrame'>\n",
      "RangeIndex: 4658147 entries, 0 to 4658146\n",
      "Data columns (total 5 columns):\n",
      "id                          int64\n",
      "atom_index_0                int64\n",
      "atom_index_1                int64\n",
      "type                        int64\n",
      "scalar_coupling_constant    float64\n",
      "dtypes: float64(1), int64(4)\n",
      "memory usage: 177.7 MB\n"
     ]
    }
   ],
   "source": [
    "train.info()"
   ]
  },
  {
   "cell_type": "markdown",
   "metadata": {},
   "source": [
    "We drop the useless columns for training"
   ]
  },
  {
   "cell_type": "code",
   "execution_count": 13,
   "metadata": {},
   "outputs": [],
   "source": [
    "X = train.drop(['id', 'scalar_coupling_constant'], axis=1)\n",
    "X_test = test.drop(['id', 'molecule_name'], axis=1)"
   ]
  },
  {
   "cell_type": "markdown",
   "metadata": {},
   "source": [
    "### Set K Folds"
   ]
  },
  {
   "cell_type": "code",
   "execution_count": 14,
   "metadata": {},
   "outputs": [],
   "source": [
    "n_fold = 5\n",
    "folds = KFold(n_splits=n_fold, shuffle=True, random_state=11)"
   ]
  },
  {
   "cell_type": "code",
   "execution_count": 15,
   "metadata": {},
   "outputs": [],
   "source": []
  },
  {
   "cell_type": "code",
   "execution_count": null,
   "metadata": {},
   "outputs": [],
   "source": []
  }
 ],
 "metadata": {
  "kernelspec": {
   "display_name": "Python 3",
   "language": "python",
   "name": "python3"
  },
  "language_info": {
   "codemirror_mode": {
    "name": "ipython",
    "version": 3
   },
   "file_extension": ".py",
   "mimetype": "text/x-python",
   "name": "python",
   "nbconvert_exporter": "python",
   "pygments_lexer": "ipython3",
   "version": "3.6.8"
  }
 },
 "nbformat": 4,
 "nbformat_minor": 2
}
