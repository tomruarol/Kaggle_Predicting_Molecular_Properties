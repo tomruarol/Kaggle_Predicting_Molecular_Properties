{
 "cells": [
  {
   "cell_type": "markdown",
   "metadata": {},
   "source": [
    "# About"
   ]
  },
  {
   "cell_type": "markdown",
   "metadata": {},
   "source": [
    "\n",
    "This notebook will cover a basic model with a basic EDA about the competition."
   ]
  },
  {
   "cell_type": "markdown",
   "metadata": {},
   "source": [
    "## Imports"
   ]
  },
  {
   "cell_type": "code",
   "execution_count": 1,
   "metadata": {},
   "outputs": [
    {
     "name": "stderr",
     "output_type": "stream",
     "text": [
      "/anaconda3/lib/python3.6/site-packages/sklearn/ensemble/weight_boosting.py:29: DeprecationWarning:\n",
      "\n",
      "numpy.core.umath_tests is an internal NumPy module and should not be imported. It will be removed in a future NumPy release.\n",
      "\n"
     ]
    }
   ],
   "source": [
    "# Imports\n",
    "import os\n",
    "import numpy as np\n",
    "import pandas as pd\n",
    "import matplotlib.pyplot as plt\n",
    "import seaborn as sns\n",
    "from sklearn import tree\n",
    "from sklearn import metrics\n",
    "\n",
    "# Visualization\n",
    "# Ploty Imports\n",
    "from itertools import combinations\n",
    "import plotly.graph_objs as go\n",
    "from plotly.offline import init_notebook_mode, iplot\n",
    "\n",
    "# Figures inline and set visualization style\n",
    "%matplotlib inline\n",
    "sns.set() #Different type of visualization\n",
    "\n",
    "# import the necessary modelling algorithms\n",
    "\n",
    "# Regression\n",
    "from sklearn.linear_model import LinearRegression,Ridge,Lasso,RidgeCV\n",
    "from sklearn.ensemble import RandomForestRegressor,BaggingRegressor,GradientBoostingRegressor,AdaBoostRegressor\n",
    "from sklearn.svm import SVR\n",
    "from sklearn.neighbors import KNeighborsRegressor\n",
    "from sklearn.ensemble import ExtraTreesRegressor\n",
    "import xgboost as xgb\n",
    "from xgboost.sklearn import XGBRegressor\n",
    "\n",
    "# Model selection\n",
    "from sklearn.model_selection import train_test_split,cross_validate\n",
    "from sklearn.model_selection import KFold\n",
    "from sklearn.model_selection import GridSearchCV\n",
    "\n",
    "# Preprocessing\n",
    "from sklearn.preprocessing import MinMaxScaler,StandardScaler,Imputer,LabelEncoder,PolynomialFeatures\n",
    "\n",
    "# Evaluation metrics\n",
    "from sklearn.metrics import mean_squared_log_error,mean_squared_error, r2_score,mean_absolute_error # for regression\n",
    "from sklearn.metrics import accuracy_score,precision_score,recall_score,f1_score  # for classification\n",
    "\n",
    "# Show multiple statements at once\n",
    "from IPython.core.interactiveshell import InteractiveShell\n",
    "InteractiveShell.ast_node_interactivity = \"all\""
   ]
  },
  {
   "cell_type": "markdown",
   "metadata": {},
   "source": [
    "## Load Data"
   ]
  },
  {
   "cell_type": "code",
   "execution_count": 2,
   "metadata": {},
   "outputs": [],
   "source": [
    "# Train Data\n",
    "train = pd.read_csv('input/train.csv')\n",
    "\n",
    "# Test Data\n",
    "test = pd.read_csv('input/test.csv')\n",
    "\n",
    "sub = pd.read_csv('input/sample_submission.csv')\n",
    "structures = pd.read_csv('input/structures.csv')"
   ]
  },
  {
   "cell_type": "markdown",
   "metadata": {},
   "source": [
    "## EDA"
   ]
  },
  {
   "cell_type": "code",
   "execution_count": 3,
   "metadata": {},
   "outputs": [
    {
     "data": {
      "text/html": [
       "<div>\n",
       "<style scoped>\n",
       "    .dataframe tbody tr th:only-of-type {\n",
       "        vertical-align: middle;\n",
       "    }\n",
       "\n",
       "    .dataframe tbody tr th {\n",
       "        vertical-align: top;\n",
       "    }\n",
       "\n",
       "    .dataframe thead th {\n",
       "        text-align: right;\n",
       "    }\n",
       "</style>\n",
       "<table border=\"1\" class=\"dataframe\">\n",
       "  <thead>\n",
       "    <tr style=\"text-align: right;\">\n",
       "      <th></th>\n",
       "      <th>id</th>\n",
       "      <th>molecule_name</th>\n",
       "      <th>atom_index_0</th>\n",
       "      <th>atom_index_1</th>\n",
       "      <th>type</th>\n",
       "      <th>scalar_coupling_constant</th>\n",
       "    </tr>\n",
       "  </thead>\n",
       "  <tbody>\n",
       "    <tr>\n",
       "      <th>0</th>\n",
       "      <td>0</td>\n",
       "      <td>dsgdb9nsd_000001</td>\n",
       "      <td>1</td>\n",
       "      <td>0</td>\n",
       "      <td>1JHC</td>\n",
       "      <td>84.8076</td>\n",
       "    </tr>\n",
       "    <tr>\n",
       "      <th>1</th>\n",
       "      <td>1</td>\n",
       "      <td>dsgdb9nsd_000001</td>\n",
       "      <td>1</td>\n",
       "      <td>2</td>\n",
       "      <td>2JHH</td>\n",
       "      <td>-11.2570</td>\n",
       "    </tr>\n",
       "    <tr>\n",
       "      <th>2</th>\n",
       "      <td>2</td>\n",
       "      <td>dsgdb9nsd_000001</td>\n",
       "      <td>1</td>\n",
       "      <td>3</td>\n",
       "      <td>2JHH</td>\n",
       "      <td>-11.2548</td>\n",
       "    </tr>\n",
       "    <tr>\n",
       "      <th>3</th>\n",
       "      <td>3</td>\n",
       "      <td>dsgdb9nsd_000001</td>\n",
       "      <td>1</td>\n",
       "      <td>4</td>\n",
       "      <td>2JHH</td>\n",
       "      <td>-11.2543</td>\n",
       "    </tr>\n",
       "    <tr>\n",
       "      <th>4</th>\n",
       "      <td>4</td>\n",
       "      <td>dsgdb9nsd_000001</td>\n",
       "      <td>2</td>\n",
       "      <td>0</td>\n",
       "      <td>1JHC</td>\n",
       "      <td>84.8074</td>\n",
       "    </tr>\n",
       "  </tbody>\n",
       "</table>\n",
       "</div>"
      ],
      "text/plain": [
       "   id     molecule_name  atom_index_0  atom_index_1  type  \\\n",
       "0   0  dsgdb9nsd_000001             1             0  1JHC   \n",
       "1   1  dsgdb9nsd_000001             1             2  2JHH   \n",
       "2   2  dsgdb9nsd_000001             1             3  2JHH   \n",
       "3   3  dsgdb9nsd_000001             1             4  2JHH   \n",
       "4   4  dsgdb9nsd_000001             2             0  1JHC   \n",
       "\n",
       "   scalar_coupling_constant  \n",
       "0                   84.8076  \n",
       "1                  -11.2570  \n",
       "2                  -11.2548  \n",
       "3                  -11.2543  \n",
       "4                   84.8074  "
      ]
     },
     "execution_count": 3,
     "metadata": {},
     "output_type": "execute_result"
    },
    {
     "data": {
      "text/html": [
       "<div>\n",
       "<style scoped>\n",
       "    .dataframe tbody tr th:only-of-type {\n",
       "        vertical-align: middle;\n",
       "    }\n",
       "\n",
       "    .dataframe tbody tr th {\n",
       "        vertical-align: top;\n",
       "    }\n",
       "\n",
       "    .dataframe thead th {\n",
       "        text-align: right;\n",
       "    }\n",
       "</style>\n",
       "<table border=\"1\" class=\"dataframe\">\n",
       "  <thead>\n",
       "    <tr style=\"text-align: right;\">\n",
       "      <th></th>\n",
       "      <th>id</th>\n",
       "      <th>scalar_coupling_constant</th>\n",
       "    </tr>\n",
       "  </thead>\n",
       "  <tbody>\n",
       "    <tr>\n",
       "      <th>0</th>\n",
       "      <td>4658147</td>\n",
       "      <td>0</td>\n",
       "    </tr>\n",
       "    <tr>\n",
       "      <th>1</th>\n",
       "      <td>4658148</td>\n",
       "      <td>0</td>\n",
       "    </tr>\n",
       "    <tr>\n",
       "      <th>2</th>\n",
       "      <td>4658149</td>\n",
       "      <td>0</td>\n",
       "    </tr>\n",
       "    <tr>\n",
       "      <th>3</th>\n",
       "      <td>4658150</td>\n",
       "      <td>0</td>\n",
       "    </tr>\n",
       "    <tr>\n",
       "      <th>4</th>\n",
       "      <td>4658151</td>\n",
       "      <td>0</td>\n",
       "    </tr>\n",
       "  </tbody>\n",
       "</table>\n",
       "</div>"
      ],
      "text/plain": [
       "        id  scalar_coupling_constant\n",
       "0  4658147                         0\n",
       "1  4658148                         0\n",
       "2  4658149                         0\n",
       "3  4658150                         0\n",
       "4  4658151                         0"
      ]
     },
     "execution_count": 3,
     "metadata": {},
     "output_type": "execute_result"
    },
    {
     "data": {
      "text/html": [
       "<div>\n",
       "<style scoped>\n",
       "    .dataframe tbody tr th:only-of-type {\n",
       "        vertical-align: middle;\n",
       "    }\n",
       "\n",
       "    .dataframe tbody tr th {\n",
       "        vertical-align: top;\n",
       "    }\n",
       "\n",
       "    .dataframe thead th {\n",
       "        text-align: right;\n",
       "    }\n",
       "</style>\n",
       "<table border=\"1\" class=\"dataframe\">\n",
       "  <thead>\n",
       "    <tr style=\"text-align: right;\">\n",
       "      <th></th>\n",
       "      <th>molecule_name</th>\n",
       "      <th>atom_index</th>\n",
       "      <th>atom</th>\n",
       "      <th>x</th>\n",
       "      <th>y</th>\n",
       "      <th>z</th>\n",
       "    </tr>\n",
       "  </thead>\n",
       "  <tbody>\n",
       "    <tr>\n",
       "      <th>0</th>\n",
       "      <td>dsgdb9nsd_000001</td>\n",
       "      <td>0</td>\n",
       "      <td>C</td>\n",
       "      <td>-0.012698</td>\n",
       "      <td>1.085804</td>\n",
       "      <td>0.008001</td>\n",
       "    </tr>\n",
       "    <tr>\n",
       "      <th>1</th>\n",
       "      <td>dsgdb9nsd_000001</td>\n",
       "      <td>1</td>\n",
       "      <td>H</td>\n",
       "      <td>0.002150</td>\n",
       "      <td>-0.006031</td>\n",
       "      <td>0.001976</td>\n",
       "    </tr>\n",
       "    <tr>\n",
       "      <th>2</th>\n",
       "      <td>dsgdb9nsd_000001</td>\n",
       "      <td>2</td>\n",
       "      <td>H</td>\n",
       "      <td>1.011731</td>\n",
       "      <td>1.463751</td>\n",
       "      <td>0.000277</td>\n",
       "    </tr>\n",
       "    <tr>\n",
       "      <th>3</th>\n",
       "      <td>dsgdb9nsd_000001</td>\n",
       "      <td>3</td>\n",
       "      <td>H</td>\n",
       "      <td>-0.540815</td>\n",
       "      <td>1.447527</td>\n",
       "      <td>-0.876644</td>\n",
       "    </tr>\n",
       "    <tr>\n",
       "      <th>4</th>\n",
       "      <td>dsgdb9nsd_000001</td>\n",
       "      <td>4</td>\n",
       "      <td>H</td>\n",
       "      <td>-0.523814</td>\n",
       "      <td>1.437933</td>\n",
       "      <td>0.906397</td>\n",
       "    </tr>\n",
       "  </tbody>\n",
       "</table>\n",
       "</div>"
      ],
      "text/plain": [
       "      molecule_name  atom_index atom         x         y         z\n",
       "0  dsgdb9nsd_000001           0    C -0.012698  1.085804  0.008001\n",
       "1  dsgdb9nsd_000001           1    H  0.002150 -0.006031  0.001976\n",
       "2  dsgdb9nsd_000001           2    H  1.011731  1.463751  0.000277\n",
       "3  dsgdb9nsd_000001           3    H -0.540815  1.447527 -0.876644\n",
       "4  dsgdb9nsd_000001           4    H -0.523814  1.437933  0.906397"
      ]
     },
     "execution_count": 3,
     "metadata": {},
     "output_type": "execute_result"
    }
   ],
   "source": [
    "# Lets take a look at the main csv files\n",
    "train.head()\n",
    "sub.head()\n",
    "structures.head()"
   ]
  },
  {
   "cell_type": "code",
   "execution_count": 4,
   "metadata": {},
   "outputs": [
    {
     "name": "stdout",
     "output_type": "stream",
     "text": [
      "4658147 rows in the train data.\n",
      "2505542 rows in the test data.\n",
      "85003 different molecules in the train data.\n",
      "There are 45772 different molecules in the test data.\n",
      "There are 5 unique atoms.\n",
      "There are 8 unique types.\n"
     ]
    }
   ],
   "source": [
    "print(f'{train.shape[0]} rows in the train data.')\n",
    "print(f'{test.shape[0]} rows in the test data.')\n",
    "print(f\"{train['molecule_name'].nunique()} different molecules in the train data.\")\n",
    "print(f\"There are {test['molecule_name'].nunique()} different molecules in the test data.\")\n",
    "print(f\"There are {structures['atom'].nunique()} unique atoms.\")\n",
    "print(f\"There are {train['type'].nunique()} unique types.\")"
   ]
  },
  {
   "cell_type": "code",
   "execution_count": 5,
   "metadata": {},
   "outputs": [
    {
     "name": "stdout",
     "output_type": "stream",
     "text": [
      "<class 'pandas.core.frame.DataFrame'>\n",
      "RangeIndex: 4658147 entries, 0 to 4658146\n",
      "Data columns (total 6 columns):\n",
      "id                          int64\n",
      "molecule_name               object\n",
      "atom_index_0                int64\n",
      "atom_index_1                int64\n",
      "type                        object\n",
      "scalar_coupling_constant    float64\n",
      "dtypes: float64(1), int64(3), object(2)\n",
      "memory usage: 213.2+ MB\n",
      "#################################################\n",
      "#################################################\n",
      "<class 'pandas.core.frame.DataFrame'>\n",
      "RangeIndex: 2505542 entries, 0 to 2505541\n",
      "Data columns (total 5 columns):\n",
      "id               int64\n",
      "molecule_name    object\n",
      "atom_index_0     int64\n",
      "atom_index_1     int64\n",
      "type             object\n",
      "dtypes: int64(3), object(2)\n",
      "memory usage: 95.6+ MB\n"
     ]
    }
   ],
   "source": [
    "# We take a first look at the dataset\n",
    "train.info()\n",
    "print ('#################################################')\n",
    "print ('#################################################')\n",
    "test.info()"
   ]
  },
  {
   "cell_type": "code",
   "execution_count": 6,
   "metadata": {},
   "outputs": [
    {
     "name": "stdout",
     "output_type": "stream",
     "text": [
      "<class 'pandas.core.frame.DataFrame'>\n",
      "RangeIndex: 2505542 entries, 0 to 2505541\n",
      "Data columns (total 2 columns):\n",
      "id                          int64\n",
      "scalar_coupling_constant    int64\n",
      "dtypes: int64(2)\n",
      "memory usage: 38.2 MB\n"
     ]
    }
   ],
   "source": [
    "sub.info()"
   ]
  },
  {
   "cell_type": "code",
   "execution_count": 7,
   "metadata": {},
   "outputs": [
    {
     "data": {
      "text/plain": [
       "array([0])"
      ]
     },
     "execution_count": 7,
     "metadata": {},
     "output_type": "execute_result"
    }
   ],
   "source": [
    "sub['scalar_coupling_constant'].unique()"
   ]
  },
  {
   "cell_type": "markdown",
   "metadata": {},
   "source": [
    "Lets take a look at a nicer visualization."
   ]
  },
  {
   "cell_type": "code",
   "execution_count": 8,
   "metadata": {},
   "outputs": [
    {
     "data": {
      "text/html": [
       "        <script type=\"text/javascript\">\n",
       "        window.PlotlyConfig = {MathJaxConfig: 'local'};\n",
       "        if (window.MathJax) {MathJax.Hub.Config({SVG: {font: \"STIX-Web\"}});}\n",
       "        if (typeof require !== 'undefined') {\n",
       "        require.undef(\"plotly\");\n",
       "        requirejs.config({\n",
       "            paths: {\n",
       "                'plotly': ['https://cdn.plot.ly/plotly-latest.min']\n",
       "            }\n",
       "        });\n",
       "        require(['plotly'], function(Plotly) {\n",
       "            window._Plotly = Plotly;\n",
       "        });\n",
       "        }\n",
       "        </script>\n",
       "        "
      ]
     },
     "metadata": {},
     "output_type": "display_data"
    }
   ],
   "source": [
    "# Plotly notebook mode\n",
    "init_notebook_mode(connected=True)"
   ]
  },
  {
   "cell_type": "code",
   "execution_count": 9,
   "metadata": {},
   "outputs": [
    {
     "data": {
      "text/plain": [
       "'\\nThis function will plot a mollecule\\n'"
      ]
     },
     "execution_count": 9,
     "metadata": {},
     "output_type": "execute_result"
    }
   ],
   "source": [
    "'''\n",
    "This function will plot a mollecule\n",
    "'''\n",
    "def plot_molecule(molecule_name, structures_df):\n",
    "    \"\"\"Creates a 3D plot of the molecule\"\"\"\n",
    "    \n",
    "    atomic_radii = dict(C=0.68, F=0.64, H=0.23, N=0.68, O=0.68)  \n",
    "    cpk_colors = dict(C='black', F='green', H='white', N='blue', O='red')\n",
    "\n",
    "    molecule = structures[structures.molecule_name == molecule_name]\n",
    "    coordinates = molecule[['x', 'y', 'z']].values\n",
    "    x_coordinates = coordinates[:, 0]\n",
    "    y_coordinates = coordinates[:, 1]\n",
    "    z_coordinates = coordinates[:, 2]\n",
    "    elements = molecule.atom.tolist()\n",
    "    radii = [atomic_radii[element] for element in elements]\n",
    "    \n",
    "    def get_bonds():\n",
    "        \"\"\"Generates a set of bonds from atomic cartesian coordinates\"\"\"\n",
    "        ids = np.arange(coordinates.shape[0])\n",
    "        bonds = set()\n",
    "        coordinates_compare, radii_compare, ids_compare = coordinates, radii, ids\n",
    "        \n",
    "        for i in range(len(ids)):\n",
    "            coordinates_compare = np.roll(coordinates_compare, -1, axis=0)\n",
    "            radii_compare = np.roll(radii_compare, -1, axis=0)\n",
    "            ids_compare = np.roll(ids_compare, -1, axis=0)\n",
    "            distances = np.linalg.norm(coordinates - coordinates_compare, axis=1)\n",
    "            bond_distances = (radii + radii_compare) * 1.3\n",
    "            mask = np.logical_and(distances > 0.1, distances <  bond_distances)\n",
    "            bonds.update(map(frozenset, zip(ids[mask], ids_compare[mask])))\n",
    "        \n",
    "        return bonds            \n",
    "            \n",
    "    def atom_trace():\n",
    "        \"\"\"Creates an atom trace for the plot\"\"\"\n",
    "        colors = [cpk_colors[element] for element in elements]\n",
    "        markers = dict(color=colors, line=dict(color='lightgray', width=2), size=7, symbol='circle', opacity=0.8)\n",
    "        trace = go.Scatter3d(x=x_coordinates, y=y_coordinates, z=z_coordinates, mode='markers', marker=markers,\n",
    "                             text=elements)\n",
    "        return trace\n",
    "\n",
    "    def bond_trace():\n",
    "        \"\"\"\"Creates a bond trace for the plot\"\"\"\n",
    "        trace = go.Scatter3d(x=[], y=[], z=[], hoverinfo='none', mode='lines',\n",
    "                             marker=dict(color='grey', size=7, opacity=1))\n",
    "        for i, j in bonds:\n",
    "            trace['x'] += (x_coordinates[i], x_coordinates[j], None)\n",
    "            trace['y'] += (y_coordinates[i], y_coordinates[j], None)\n",
    "            trace['z'] += (z_coordinates[i], z_coordinates[j], None)\n",
    "        return trace\n",
    "    \n",
    "    bonds = get_bonds()\n",
    "    atoms = zip(range(len(elements)), x_coordinates, y_coordinates, z_coordinates)\n",
    "    annotations = [dict(text=num, x=x, y=y, z=z, showarrow=False, yshift=15)\n",
    "                   for num, x, y, z in atoms]\n",
    "    data = [atom_trace(), bond_trace()]\n",
    "    axis_params = dict(showgrid=False, showticklabels=False, zeroline=False, titlefont=dict(color='white'))\n",
    "    layout = go.Layout(scene=dict(xaxis=axis_params, yaxis=axis_params, zaxis=axis_params, annotations=annotations),\n",
    "                       margin=dict(r=0, l=0, b=0, t=0), showlegend=False)\n",
    "    fig = go.Figure(data=data, layout=layout)\n",
    "    iplot(fig)"
   ]
  },
  {
   "cell_type": "code",
   "execution_count": 10,
   "metadata": {
    "scrolled": true
   },
   "outputs": [
    {
     "data": {
      "application/vnd.plotly.v1+json": {
       "config": {
        "linkText": "Export to plot.ly",
        "plotlyServerURL": "https://plot.ly",
        "showLink": false
       },
       "data": [
        {
         "marker": {
          "color": [
           "black",
           "blue",
           "black",
           "black",
           "black",
           "red",
           "black",
           "black",
           "black",
           "white",
           "white",
           "white",
           "white",
           "white",
           "white",
           "white"
          ],
          "line": {
           "color": "lightgray",
           "width": 2
          },
          "opacity": 0.8,
          "size": 7,
          "symbol": "circle"
         },
         "mode": "markers",
         "text": [
          "C",
          "N",
          "C",
          "C",
          "C",
          "O",
          "C",
          "C",
          "C",
          "H",
          "H",
          "H",
          "H",
          "H",
          "H",
          "H"
         ],
         "type": "scatter3d",
         "uid": "20febac7-1241-40d8-81d0-c8eb77365dcb",
         "x": [
          -1.4098766040000001,
          -1.5645935690000001,
          -0.8328987002,
          0.2710295071,
          1.528453597,
          1.250212807,
          -0.0573999238,
          -0.0959285633,
          0.8166944813,
          -2.090436078,
          -1.44004201,
          -1.454004495,
          0.2777789004,
          2.5158540609999998,
          0.0136988019,
          1.260745327
         ],
         "y": [
          1.337337361,
          0.09912485060000001,
          -0.7075502498999999,
          -1.618613843,
          -0.7551229418000001,
          0.4586399968,
          0.6112101834,
          0.3804239493,
          -0.8130667666,
          1.327066088,
          2.287217978,
          -0.9673087774,
          -2.697872397,
          -1.151783773,
          1.19943057,
          -1.246753647
         ],
         "z": [
          0.4099526107,
          -0.5169414085,
          0.6042954267,
          0.1448045117,
          0.3395081289,
          1.0471189509999999,
          0.5411015062,
          -0.9720975179000001,
          -1.022359648,
          1.2636607579999999,
          -0.1275429128,
          1.459246448,
          0.19576999949999999,
          0.5273692559000001,
          -1.680192303,
          -1.906767156
         ]
        },
        {
         "hoverinfo": "none",
         "marker": {
          "color": "grey",
          "opacity": 1,
          "size": 7
         },
         "mode": "lines",
         "type": "scatter3d",
         "uid": "92f0f470-72ec-4fc9-a78e-06eeb26ce409",
         "x": [
          0.2710295071,
          1.528453597,
          null,
          -0.8328987002,
          0.2710295071,
          null,
          -1.4098766040000001,
          -0.0573999238,
          null,
          -1.5645935690000001,
          -0.8328987002,
          null,
          -0.8328987002,
          -0.0573999238,
          null,
          1.528453597,
          1.250212807,
          null,
          -1.4098766040000001,
          -1.5645935690000001,
          null,
          -0.0573999238,
          -0.0959285633,
          null,
          -1.5645935690000001,
          -0.0959285633,
          null,
          -1.4098766040000001,
          -1.44004201,
          null,
          1.528453597,
          2.5158540609999998,
          null,
          0.8166944813,
          -0.0959285633,
          null,
          0.8166944813,
          0.2710295071,
          null,
          0.0136988019,
          -0.0959285633,
          null,
          1.250212807,
          -0.0573999238,
          null,
          0.2710295071,
          0.2777789004,
          null,
          -0.8328987002,
          -1.454004495,
          null,
          0.8166944813,
          1.260745327,
          null,
          0.8166944813,
          1.528453597,
          null,
          -1.4098766040000001,
          -2.090436078,
          null
         ],
         "y": [
          -1.618613843,
          -0.7551229418000001,
          null,
          -0.7075502498999999,
          -1.618613843,
          null,
          1.337337361,
          0.6112101834,
          null,
          0.09912485060000001,
          -0.7075502498999999,
          null,
          -0.7075502498999999,
          0.6112101834,
          null,
          -0.7551229418000001,
          0.4586399968,
          null,
          1.337337361,
          0.09912485060000001,
          null,
          0.6112101834,
          0.3804239493,
          null,
          0.09912485060000001,
          0.3804239493,
          null,
          1.337337361,
          2.287217978,
          null,
          -0.7551229418000001,
          -1.151783773,
          null,
          -0.8130667666,
          0.3804239493,
          null,
          -0.8130667666,
          -1.618613843,
          null,
          1.19943057,
          0.3804239493,
          null,
          0.4586399968,
          0.6112101834,
          null,
          -1.618613843,
          -2.697872397,
          null,
          -0.7075502498999999,
          -0.9673087774,
          null,
          -0.8130667666,
          -1.246753647,
          null,
          -0.8130667666,
          -0.7551229418000001,
          null,
          1.337337361,
          1.327066088,
          null
         ],
         "z": [
          0.1448045117,
          0.3395081289,
          null,
          0.6042954267,
          0.1448045117,
          null,
          0.4099526107,
          0.5411015062,
          null,
          -0.5169414085,
          0.6042954267,
          null,
          0.6042954267,
          0.5411015062,
          null,
          0.3395081289,
          1.0471189509999999,
          null,
          0.4099526107,
          -0.5169414085,
          null,
          0.5411015062,
          -0.9720975179000001,
          null,
          -0.5169414085,
          -0.9720975179000001,
          null,
          0.4099526107,
          -0.1275429128,
          null,
          0.3395081289,
          0.5273692559000001,
          null,
          -1.022359648,
          -0.9720975179000001,
          null,
          -1.022359648,
          0.1448045117,
          null,
          -1.680192303,
          -0.9720975179000001,
          null,
          1.0471189509999999,
          0.5411015062,
          null,
          0.1448045117,
          0.19576999949999999,
          null,
          0.6042954267,
          1.459246448,
          null,
          -1.022359648,
          -1.906767156,
          null,
          -1.022359648,
          0.3395081289,
          null,
          0.4099526107,
          1.2636607579999999,
          null
         ]
        }
       ],
       "layout": {
        "margin": {
         "b": 0,
         "l": 0,
         "r": 0,
         "t": 0
        },
        "scene": {
         "annotations": [
          {
           "showarrow": false,
           "text": "0",
           "x": -1.4098766040000001,
           "y": 1.337337361,
           "yshift": 15,
           "z": 0.4099526107
          },
          {
           "showarrow": false,
           "text": "1",
           "x": -1.5645935690000001,
           "y": 0.09912485060000001,
           "yshift": 15,
           "z": -0.5169414085
          },
          {
           "showarrow": false,
           "text": "2",
           "x": -0.8328987002,
           "y": -0.7075502498999999,
           "yshift": 15,
           "z": 0.6042954267
          },
          {
           "showarrow": false,
           "text": "3",
           "x": 0.2710295071,
           "y": -1.618613843,
           "yshift": 15,
           "z": 0.1448045117
          },
          {
           "showarrow": false,
           "text": "4",
           "x": 1.528453597,
           "y": -0.7551229418000001,
           "yshift": 15,
           "z": 0.3395081289
          },
          {
           "showarrow": false,
           "text": "5",
           "x": 1.250212807,
           "y": 0.4586399968,
           "yshift": 15,
           "z": 1.0471189509999999
          },
          {
           "showarrow": false,
           "text": "6",
           "x": -0.0573999238,
           "y": 0.6112101834,
           "yshift": 15,
           "z": 0.5411015062
          },
          {
           "showarrow": false,
           "text": "7",
           "x": -0.0959285633,
           "y": 0.3804239493,
           "yshift": 15,
           "z": -0.9720975179000001
          },
          {
           "showarrow": false,
           "text": "8",
           "x": 0.8166944813,
           "y": -0.8130667666,
           "yshift": 15,
           "z": -1.022359648
          },
          {
           "showarrow": false,
           "text": "9",
           "x": -2.090436078,
           "y": 1.327066088,
           "yshift": 15,
           "z": 1.2636607579999999
          },
          {
           "showarrow": false,
           "text": "10",
           "x": -1.44004201,
           "y": 2.287217978,
           "yshift": 15,
           "z": -0.1275429128
          },
          {
           "showarrow": false,
           "text": "11",
           "x": -1.454004495,
           "y": -0.9673087774,
           "yshift": 15,
           "z": 1.459246448
          },
          {
           "showarrow": false,
           "text": "12",
           "x": 0.2777789004,
           "y": -2.697872397,
           "yshift": 15,
           "z": 0.19576999949999999
          },
          {
           "showarrow": false,
           "text": "13",
           "x": 2.5158540609999998,
           "y": -1.151783773,
           "yshift": 15,
           "z": 0.5273692559000001
          },
          {
           "showarrow": false,
           "text": "14",
           "x": 0.0136988019,
           "y": 1.19943057,
           "yshift": 15,
           "z": -1.680192303
          },
          {
           "showarrow": false,
           "text": "15",
           "x": 1.260745327,
           "y": -1.246753647,
           "yshift": 15,
           "z": -1.906767156
          }
         ],
         "xaxis": {
          "showgrid": false,
          "showticklabels": false,
          "title": {
           "font": {
            "color": "white"
           }
          },
          "zeroline": false
         },
         "yaxis": {
          "showgrid": false,
          "showticklabels": false,
          "title": {
           "font": {
            "color": "white"
           }
          },
          "zeroline": false
         },
         "zaxis": {
          "showgrid": false,
          "showticklabels": false,
          "title": {
           "font": {
            "color": "white"
           }
          },
          "zeroline": false
         }
        },
        "showlegend": false
       }
      },
      "text/html": [
       "<div>\n",
       "        \n",
       "        \n",
       "            <div id=\"e18b38a1-3981-4898-bca5-db0225ebd92e\" class=\"plotly-graph-div\" style=\"height:525px; width:100%;\"></div>\n",
       "            <script type=\"text/javascript\">\n",
       "                require([\"plotly\"], function(Plotly) {\n",
       "                    window.PLOTLYENV=window.PLOTLYENV || {};\n",
       "                    window.PLOTLYENV.BASE_URL='https://plot.ly';\n",
       "                    \n",
       "                if (document.getElementById(\"e18b38a1-3981-4898-bca5-db0225ebd92e\")) {\n",
       "                    Plotly.newPlot(\n",
       "                        'e18b38a1-3981-4898-bca5-db0225ebd92e',\n",
       "                        [{\"marker\": {\"color\": [\"black\", \"blue\", \"black\", \"black\", \"black\", \"red\", \"black\", \"black\", \"black\", \"white\", \"white\", \"white\", \"white\", \"white\", \"white\", \"white\"], \"line\": {\"color\": \"lightgray\", \"width\": 2}, \"opacity\": 0.8, \"size\": 7, \"symbol\": \"circle\"}, \"mode\": \"markers\", \"text\": [\"C\", \"N\", \"C\", \"C\", \"C\", \"O\", \"C\", \"C\", \"C\", \"H\", \"H\", \"H\", \"H\", \"H\", \"H\", \"H\"], \"type\": \"scatter3d\", \"uid\": \"20febac7-1241-40d8-81d0-c8eb77365dcb\", \"x\": [-1.4098766040000001, -1.5645935690000001, -0.8328987002, 0.2710295071, 1.528453597, 1.250212807, -0.0573999238, -0.0959285633, 0.8166944813, -2.090436078, -1.44004201, -1.454004495, 0.2777789004, 2.5158540609999998, 0.0136988019, 1.260745327], \"y\": [1.337337361, 0.09912485060000001, -0.7075502498999999, -1.618613843, -0.7551229418000001, 0.4586399968, 0.6112101834, 0.3804239493, -0.8130667666, 1.327066088, 2.287217978, -0.9673087774, -2.697872397, -1.151783773, 1.19943057, -1.246753647], \"z\": [0.4099526107, -0.5169414085, 0.6042954267, 0.1448045117, 0.3395081289, 1.0471189509999999, 0.5411015062, -0.9720975179000001, -1.022359648, 1.2636607579999999, -0.1275429128, 1.459246448, 0.19576999949999999, 0.5273692559000001, -1.680192303, -1.906767156]}, {\"hoverinfo\": \"none\", \"marker\": {\"color\": \"grey\", \"opacity\": 1, \"size\": 7}, \"mode\": \"lines\", \"type\": \"scatter3d\", \"uid\": \"92f0f470-72ec-4fc9-a78e-06eeb26ce409\", \"x\": [0.2710295071, 1.528453597, null, -0.8328987002, 0.2710295071, null, -1.4098766040000001, -0.0573999238, null, -1.5645935690000001, -0.8328987002, null, -0.8328987002, -0.0573999238, null, 1.528453597, 1.250212807, null, -1.4098766040000001, -1.5645935690000001, null, -0.0573999238, -0.0959285633, null, -1.5645935690000001, -0.0959285633, null, -1.4098766040000001, -1.44004201, null, 1.528453597, 2.5158540609999998, null, 0.8166944813, -0.0959285633, null, 0.8166944813, 0.2710295071, null, 0.0136988019, -0.0959285633, null, 1.250212807, -0.0573999238, null, 0.2710295071, 0.2777789004, null, -0.8328987002, -1.454004495, null, 0.8166944813, 1.260745327, null, 0.8166944813, 1.528453597, null, -1.4098766040000001, -2.090436078, null], \"y\": [-1.618613843, -0.7551229418000001, null, -0.7075502498999999, -1.618613843, null, 1.337337361, 0.6112101834, null, 0.09912485060000001, -0.7075502498999999, null, -0.7075502498999999, 0.6112101834, null, -0.7551229418000001, 0.4586399968, null, 1.337337361, 0.09912485060000001, null, 0.6112101834, 0.3804239493, null, 0.09912485060000001, 0.3804239493, null, 1.337337361, 2.287217978, null, -0.7551229418000001, -1.151783773, null, -0.8130667666, 0.3804239493, null, -0.8130667666, -1.618613843, null, 1.19943057, 0.3804239493, null, 0.4586399968, 0.6112101834, null, -1.618613843, -2.697872397, null, -0.7075502498999999, -0.9673087774, null, -0.8130667666, -1.246753647, null, -0.8130667666, -0.7551229418000001, null, 1.337337361, 1.327066088, null], \"z\": [0.1448045117, 0.3395081289, null, 0.6042954267, 0.1448045117, null, 0.4099526107, 0.5411015062, null, -0.5169414085, 0.6042954267, null, 0.6042954267, 0.5411015062, null, 0.3395081289, 1.0471189509999999, null, 0.4099526107, -0.5169414085, null, 0.5411015062, -0.9720975179000001, null, -0.5169414085, -0.9720975179000001, null, 0.4099526107, -0.1275429128, null, 0.3395081289, 0.5273692559000001, null, -1.022359648, -0.9720975179000001, null, -1.022359648, 0.1448045117, null, -1.680192303, -0.9720975179000001, null, 1.0471189509999999, 0.5411015062, null, 0.1448045117, 0.19576999949999999, null, 0.6042954267, 1.459246448, null, -1.022359648, -1.906767156, null, -1.022359648, 0.3395081289, null, 0.4099526107, 1.2636607579999999, null]}],\n",
       "                        {\"margin\": {\"b\": 0, \"l\": 0, \"r\": 0, \"t\": 0}, \"scene\": {\"annotations\": [{\"showarrow\": false, \"text\": \"0\", \"x\": -1.4098766040000001, \"y\": 1.337337361, \"yshift\": 15, \"z\": 0.4099526107}, {\"showarrow\": false, \"text\": \"1\", \"x\": -1.5645935690000001, \"y\": 0.09912485060000001, \"yshift\": 15, \"z\": -0.5169414085}, {\"showarrow\": false, \"text\": \"2\", \"x\": -0.8328987002, \"y\": -0.7075502498999999, \"yshift\": 15, \"z\": 0.6042954267}, {\"showarrow\": false, \"text\": \"3\", \"x\": 0.2710295071, \"y\": -1.618613843, \"yshift\": 15, \"z\": 0.1448045117}, {\"showarrow\": false, \"text\": \"4\", \"x\": 1.528453597, \"y\": -0.7551229418000001, \"yshift\": 15, \"z\": 0.3395081289}, {\"showarrow\": false, \"text\": \"5\", \"x\": 1.250212807, \"y\": 0.4586399968, \"yshift\": 15, \"z\": 1.0471189509999999}, {\"showarrow\": false, \"text\": \"6\", \"x\": -0.0573999238, \"y\": 0.6112101834, \"yshift\": 15, \"z\": 0.5411015062}, {\"showarrow\": false, \"text\": \"7\", \"x\": -0.0959285633, \"y\": 0.3804239493, \"yshift\": 15, \"z\": -0.9720975179000001}, {\"showarrow\": false, \"text\": \"8\", \"x\": 0.8166944813, \"y\": -0.8130667666, \"yshift\": 15, \"z\": -1.022359648}, {\"showarrow\": false, \"text\": \"9\", \"x\": -2.090436078, \"y\": 1.327066088, \"yshift\": 15, \"z\": 1.2636607579999999}, {\"showarrow\": false, \"text\": \"10\", \"x\": -1.44004201, \"y\": 2.287217978, \"yshift\": 15, \"z\": -0.1275429128}, {\"showarrow\": false, \"text\": \"11\", \"x\": -1.454004495, \"y\": -0.9673087774, \"yshift\": 15, \"z\": 1.459246448}, {\"showarrow\": false, \"text\": \"12\", \"x\": 0.2777789004, \"y\": -2.697872397, \"yshift\": 15, \"z\": 0.19576999949999999}, {\"showarrow\": false, \"text\": \"13\", \"x\": 2.5158540609999998, \"y\": -1.151783773, \"yshift\": 15, \"z\": 0.5273692559000001}, {\"showarrow\": false, \"text\": \"14\", \"x\": 0.0136988019, \"y\": 1.19943057, \"yshift\": 15, \"z\": -1.680192303}, {\"showarrow\": false, \"text\": \"15\", \"x\": 1.260745327, \"y\": -1.246753647, \"yshift\": 15, \"z\": -1.906767156}], \"xaxis\": {\"showgrid\": false, \"showticklabels\": false, \"title\": {\"font\": {\"color\": \"white\"}}, \"zeroline\": false}, \"yaxis\": {\"showgrid\": false, \"showticklabels\": false, \"title\": {\"font\": {\"color\": \"white\"}}, \"zeroline\": false}, \"zaxis\": {\"showgrid\": false, \"showticklabels\": false, \"title\": {\"font\": {\"color\": \"white\"}}, \"zeroline\": false}}, \"showlegend\": false},\n",
       "                        {\"showLink\": false, \"linkText\": \"Export to plot.ly\", \"plotlyServerURL\": \"https://plot.ly\", \"responsive\": true}\n",
       "                    ).then(function(){\n",
       "                            \n",
       "var gd = document.getElementById('e18b38a1-3981-4898-bca5-db0225ebd92e');\n",
       "var x = new MutationObserver(function (mutations, observer) {{\n",
       "        var display = window.getComputedStyle(gd).display;\n",
       "        if (!display || display === 'none') {{\n",
       "            console.log([gd, 'removed!']);\n",
       "            Plotly.purge(gd);\n",
       "            observer.disconnect();\n",
       "        }}\n",
       "}});\n",
       "\n",
       "// Listen for the removal of the full notebook cells\n",
       "var notebookContainer = gd.closest('#notebook-container');\n",
       "if (notebookContainer) {{\n",
       "    x.observe(notebookContainer, {childList: true});\n",
       "}}\n",
       "\n",
       "// Listen for the clearing of the current output cell\n",
       "var outputEl = gd.closest('.output');\n",
       "if (outputEl) {{\n",
       "    x.observe(outputEl, {childList: true});\n",
       "}}\n",
       "\n",
       "                        })\n",
       "                };\n",
       "                });\n",
       "            </script>\n",
       "        </div>"
      ]
     },
     "metadata": {},
     "output_type": "display_data"
    },
    {
     "data": {
      "application/vnd.plotly.v1+json": {
       "config": {
        "linkText": "Export to plot.ly",
        "plotlyServerURL": "https://plot.ly",
        "showLink": false
       },
       "data": [
        {
         "marker": {
          "color": [
           "black",
           "black",
           "black",
           "black",
           "black",
           "black",
           "black",
           "black",
           "black",
           "white",
           "white",
           "white",
           "white",
           "white",
           "white",
           "white",
           "white",
           "white",
           "white",
           "white",
           "white",
           "white",
           "white",
           "white",
           "white",
           "white",
           "white"
          ],
          "line": {
           "color": "lightgray",
           "width": 2
          },
          "opacity": 0.8,
          "size": 7,
          "symbol": "circle"
         },
         "mode": "markers",
         "text": [
          "C",
          "C",
          "C",
          "C",
          "C",
          "C",
          "C",
          "C",
          "C",
          "H",
          "H",
          "H",
          "H",
          "H",
          "H",
          "H",
          "H",
          "H",
          "H",
          "H",
          "H",
          "H",
          "H",
          "H",
          "H",
          "H",
          "H"
         ],
         "type": "scatter3d",
         "uid": "d9af6980-0730-43bb-9ea1-e66dd7fdcb96",
         "x": [
          1.1823021059999999,
          0.2115087571,
          0.5367999565,
          1.735916363,
          0.34664254479999995,
          -0.2676080396,
          0.2123222632,
          1.018484868,
          -1.295283912,
          2.208877138,
          1.178465359,
          0.9140064995,
          0.21785889379999998,
          -0.8111152226999999,
          2.404492518,
          2.237227535,
          0.0963913085,
          0.0633289168,
          -1.3625573819999999,
          0.0170065112,
          0.46649396090000006,
          0.8619345740000001,
          0.7080417306,
          2.091301495,
          -1.545855346,
          -1.605199807,
          -1.89802902
         ],
         "y": [
          1.442858134,
          0.2985793897,
          -0.4437906414,
          -1.372646073,
          -1.949619992,
          -2.7970818619999998,
          0.3692477205,
          -0.0184400163,
          0.3226678695,
          1.072505318,
          2.220165946,
          1.92172531,
          -0.4027283623,
          0.6943731601,
          -1.445441199,
          -1.471747058,
          -2.3121700869999997,
          -2.495171365,
          -2.7479599639999996,
          -3.8477894580000003,
          1.414945703,
          -1.065080003,
          0.5964746906,
          0.13583860720000002,
          0.9943505049,
          -0.6886456266,
          0.6214998743
         ],
         "z": [
          0.2975428168,
          -0.027096836699999998,
          -1.322766559,
          -1.274073835,
          -1.3889159290000002,
          -0.2944067984,
          -2.5934010169999997,
          -3.8412446030000003,
          -2.90061471,
          0.3870818253,
          -0.47306486020000005,
          1.244782859,
          0.8126588139,
          -0.0744816109,
          -2.123626449,
          -0.31498410649999997,
          -2.383986581,
          0.7028598505,
          -0.3109841618,
          -0.42198269509999997,
          -2.375686429,
          -4.126831402,
          -4.692357923,
          -3.696176168,
          -3.7285284610000002,
          -3.186509366,
          -2.037839915
         ]
        },
        {
         "hoverinfo": "none",
         "marker": {
          "color": "grey",
          "opacity": 1,
          "size": 7
         },
         "mode": "lines",
         "type": "scatter3d",
         "uid": "81c1d7c7-aa62-451d-8c13-e1d8bf1cf336",
         "x": [
          0.5367999565,
          1.735916363,
          null,
          0.5367999565,
          0.2123222632,
          null,
          0.34664254479999995,
          -0.2676080396,
          null,
          0.0633289168,
          -0.2676080396,
          null,
          0.0963913085,
          0.34664254479999995,
          null,
          1.1823021059999999,
          0.9140064995,
          null,
          1.018484868,
          2.091301495,
          null,
          1.735916363,
          0.34664254479999995,
          null,
          -1.295283912,
          -1.89802902,
          null,
          -1.295283912,
          -1.605199807,
          null,
          0.5367999565,
          0.34664254479999995,
          null,
          0.46649396090000006,
          0.2123222632,
          null,
          1.1823021059999999,
          1.178465359,
          null,
          1.1823021059999999,
          0.2115087571,
          null,
          0.2123222632,
          1.018484868,
          null,
          -1.545855346,
          -1.295283912,
          null,
          1.735916363,
          2.404492518,
          null,
          0.2115087571,
          0.21785889379999998,
          null,
          -1.295283912,
          0.2123222632,
          null,
          -1.3625573819999999,
          -0.2676080396,
          null,
          0.2115087571,
          -0.8111152226999999,
          null,
          0.8619345740000001,
          1.018484868,
          null,
          1.1823021059999999,
          2.208877138,
          null,
          1.735916363,
          2.237227535,
          null,
          0.2115087571,
          0.5367999565,
          null,
          0.0170065112,
          -0.2676080396,
          null,
          0.7080417306,
          1.018484868,
          null
         ],
         "y": [
          -0.4437906414,
          -1.372646073,
          null,
          -0.4437906414,
          0.3692477205,
          null,
          -1.949619992,
          -2.7970818619999998,
          null,
          -2.495171365,
          -2.7970818619999998,
          null,
          -2.3121700869999997,
          -1.949619992,
          null,
          1.442858134,
          1.92172531,
          null,
          -0.0184400163,
          0.13583860720000002,
          null,
          -1.372646073,
          -1.949619992,
          null,
          0.3226678695,
          0.6214998743,
          null,
          0.3226678695,
          -0.6886456266,
          null,
          -0.4437906414,
          -1.949619992,
          null,
          1.414945703,
          0.3692477205,
          null,
          1.442858134,
          2.220165946,
          null,
          1.442858134,
          0.2985793897,
          null,
          0.3692477205,
          -0.0184400163,
          null,
          0.9943505049,
          0.3226678695,
          null,
          -1.372646073,
          -1.445441199,
          null,
          0.2985793897,
          -0.4027283623,
          null,
          0.3226678695,
          0.3692477205,
          null,
          -2.7479599639999996,
          -2.7970818619999998,
          null,
          0.2985793897,
          0.6943731601,
          null,
          -1.065080003,
          -0.0184400163,
          null,
          1.442858134,
          1.072505318,
          null,
          -1.372646073,
          -1.471747058,
          null,
          0.2985793897,
          -0.4437906414,
          null,
          -3.8477894580000003,
          -2.7970818619999998,
          null,
          0.5964746906,
          -0.0184400163,
          null
         ],
         "z": [
          -1.322766559,
          -1.274073835,
          null,
          -1.322766559,
          -2.5934010169999997,
          null,
          -1.3889159290000002,
          -0.2944067984,
          null,
          0.7028598505,
          -0.2944067984,
          null,
          -2.383986581,
          -1.3889159290000002,
          null,
          0.2975428168,
          1.244782859,
          null,
          -3.8412446030000003,
          -3.696176168,
          null,
          -1.274073835,
          -1.3889159290000002,
          null,
          -2.90061471,
          -2.037839915,
          null,
          -2.90061471,
          -3.186509366,
          null,
          -1.322766559,
          -1.3889159290000002,
          null,
          -2.375686429,
          -2.5934010169999997,
          null,
          0.2975428168,
          -0.47306486020000005,
          null,
          0.2975428168,
          -0.027096836699999998,
          null,
          -2.5934010169999997,
          -3.8412446030000003,
          null,
          -3.7285284610000002,
          -2.90061471,
          null,
          -1.274073835,
          -2.123626449,
          null,
          -0.027096836699999998,
          0.8126588139,
          null,
          -2.90061471,
          -2.5934010169999997,
          null,
          -0.3109841618,
          -0.2944067984,
          null,
          -0.027096836699999998,
          -0.0744816109,
          null,
          -4.126831402,
          -3.8412446030000003,
          null,
          0.2975428168,
          0.3870818253,
          null,
          -1.274073835,
          -0.31498410649999997,
          null,
          -0.027096836699999998,
          -1.322766559,
          null,
          -0.42198269509999997,
          -0.2944067984,
          null,
          -4.692357923,
          -3.8412446030000003,
          null
         ]
        }
       ],
       "layout": {
        "margin": {
         "b": 0,
         "l": 0,
         "r": 0,
         "t": 0
        },
        "scene": {
         "annotations": [
          {
           "showarrow": false,
           "text": "0",
           "x": 1.1823021059999999,
           "y": 1.442858134,
           "yshift": 15,
           "z": 0.2975428168
          },
          {
           "showarrow": false,
           "text": "1",
           "x": 0.2115087571,
           "y": 0.2985793897,
           "yshift": 15,
           "z": -0.027096836699999998
          },
          {
           "showarrow": false,
           "text": "2",
           "x": 0.5367999565,
           "y": -0.4437906414,
           "yshift": 15,
           "z": -1.322766559
          },
          {
           "showarrow": false,
           "text": "3",
           "x": 1.735916363,
           "y": -1.372646073,
           "yshift": 15,
           "z": -1.274073835
          },
          {
           "showarrow": false,
           "text": "4",
           "x": 0.34664254479999995,
           "y": -1.949619992,
           "yshift": 15,
           "z": -1.3889159290000002
          },
          {
           "showarrow": false,
           "text": "5",
           "x": -0.2676080396,
           "y": -2.7970818619999998,
           "yshift": 15,
           "z": -0.2944067984
          },
          {
           "showarrow": false,
           "text": "6",
           "x": 0.2123222632,
           "y": 0.3692477205,
           "yshift": 15,
           "z": -2.5934010169999997
          },
          {
           "showarrow": false,
           "text": "7",
           "x": 1.018484868,
           "y": -0.0184400163,
           "yshift": 15,
           "z": -3.8412446030000003
          },
          {
           "showarrow": false,
           "text": "8",
           "x": -1.295283912,
           "y": 0.3226678695,
           "yshift": 15,
           "z": -2.90061471
          },
          {
           "showarrow": false,
           "text": "9",
           "x": 2.208877138,
           "y": 1.072505318,
           "yshift": 15,
           "z": 0.3870818253
          },
          {
           "showarrow": false,
           "text": "10",
           "x": 1.178465359,
           "y": 2.220165946,
           "yshift": 15,
           "z": -0.47306486020000005
          },
          {
           "showarrow": false,
           "text": "11",
           "x": 0.9140064995,
           "y": 1.92172531,
           "yshift": 15,
           "z": 1.244782859
          },
          {
           "showarrow": false,
           "text": "12",
           "x": 0.21785889379999998,
           "y": -0.4027283623,
           "yshift": 15,
           "z": 0.8126588139
          },
          {
           "showarrow": false,
           "text": "13",
           "x": -0.8111152226999999,
           "y": 0.6943731601,
           "yshift": 15,
           "z": -0.0744816109
          },
          {
           "showarrow": false,
           "text": "14",
           "x": 2.404492518,
           "y": -1.445441199,
           "yshift": 15,
           "z": -2.123626449
          },
          {
           "showarrow": false,
           "text": "15",
           "x": 2.237227535,
           "y": -1.471747058,
           "yshift": 15,
           "z": -0.31498410649999997
          },
          {
           "showarrow": false,
           "text": "16",
           "x": 0.0963913085,
           "y": -2.3121700869999997,
           "yshift": 15,
           "z": -2.383986581
          },
          {
           "showarrow": false,
           "text": "17",
           "x": 0.0633289168,
           "y": -2.495171365,
           "yshift": 15,
           "z": 0.7028598505
          },
          {
           "showarrow": false,
           "text": "18",
           "x": -1.3625573819999999,
           "y": -2.7479599639999996,
           "yshift": 15,
           "z": -0.3109841618
          },
          {
           "showarrow": false,
           "text": "19",
           "x": 0.0170065112,
           "y": -3.8477894580000003,
           "yshift": 15,
           "z": -0.42198269509999997
          },
          {
           "showarrow": false,
           "text": "20",
           "x": 0.46649396090000006,
           "y": 1.414945703,
           "yshift": 15,
           "z": -2.375686429
          },
          {
           "showarrow": false,
           "text": "21",
           "x": 0.8619345740000001,
           "y": -1.065080003,
           "yshift": 15,
           "z": -4.126831402
          },
          {
           "showarrow": false,
           "text": "22",
           "x": 0.7080417306,
           "y": 0.5964746906,
           "yshift": 15,
           "z": -4.692357923
          },
          {
           "showarrow": false,
           "text": "23",
           "x": 2.091301495,
           "y": 0.13583860720000002,
           "yshift": 15,
           "z": -3.696176168
          },
          {
           "showarrow": false,
           "text": "24",
           "x": -1.545855346,
           "y": 0.9943505049,
           "yshift": 15,
           "z": -3.7285284610000002
          },
          {
           "showarrow": false,
           "text": "25",
           "x": -1.605199807,
           "y": -0.6886456266,
           "yshift": 15,
           "z": -3.186509366
          },
          {
           "showarrow": false,
           "text": "26",
           "x": -1.89802902,
           "y": 0.6214998743,
           "yshift": 15,
           "z": -2.037839915
          }
         ],
         "xaxis": {
          "showgrid": false,
          "showticklabels": false,
          "title": {
           "font": {
            "color": "white"
           }
          },
          "zeroline": false
         },
         "yaxis": {
          "showgrid": false,
          "showticklabels": false,
          "title": {
           "font": {
            "color": "white"
           }
          },
          "zeroline": false
         },
         "zaxis": {
          "showgrid": false,
          "showticklabels": false,
          "title": {
           "font": {
            "color": "white"
           }
          },
          "zeroline": false
         }
        },
        "showlegend": false
       }
      },
      "text/html": [
       "<div>\n",
       "        \n",
       "        \n",
       "            <div id=\"cda2a73b-6993-43e7-aee2-dd7345bdc8db\" class=\"plotly-graph-div\" style=\"height:525px; width:100%;\"></div>\n",
       "            <script type=\"text/javascript\">\n",
       "                require([\"plotly\"], function(Plotly) {\n",
       "                    window.PLOTLYENV=window.PLOTLYENV || {};\n",
       "                    window.PLOTLYENV.BASE_URL='https://plot.ly';\n",
       "                    \n",
       "                if (document.getElementById(\"cda2a73b-6993-43e7-aee2-dd7345bdc8db\")) {\n",
       "                    Plotly.newPlot(\n",
       "                        'cda2a73b-6993-43e7-aee2-dd7345bdc8db',\n",
       "                        [{\"marker\": {\"color\": [\"black\", \"black\", \"black\", \"black\", \"black\", \"black\", \"black\", \"black\", \"black\", \"white\", \"white\", \"white\", \"white\", \"white\", \"white\", \"white\", \"white\", \"white\", \"white\", \"white\", \"white\", \"white\", \"white\", \"white\", \"white\", \"white\", \"white\"], \"line\": {\"color\": \"lightgray\", \"width\": 2}, \"opacity\": 0.8, \"size\": 7, \"symbol\": \"circle\"}, \"mode\": \"markers\", \"text\": [\"C\", \"C\", \"C\", \"C\", \"C\", \"C\", \"C\", \"C\", \"C\", \"H\", \"H\", \"H\", \"H\", \"H\", \"H\", \"H\", \"H\", \"H\", \"H\", \"H\", \"H\", \"H\", \"H\", \"H\", \"H\", \"H\", \"H\"], \"type\": \"scatter3d\", \"uid\": \"d9af6980-0730-43bb-9ea1-e66dd7fdcb96\", \"x\": [1.1823021059999999, 0.2115087571, 0.5367999565, 1.735916363, 0.34664254479999995, -0.2676080396, 0.2123222632, 1.018484868, -1.295283912, 2.208877138, 1.178465359, 0.9140064995, 0.21785889379999998, -0.8111152226999999, 2.404492518, 2.237227535, 0.0963913085, 0.0633289168, -1.3625573819999999, 0.0170065112, 0.46649396090000006, 0.8619345740000001, 0.7080417306, 2.091301495, -1.545855346, -1.605199807, -1.89802902], \"y\": [1.442858134, 0.2985793897, -0.4437906414, -1.372646073, -1.949619992, -2.7970818619999998, 0.3692477205, -0.0184400163, 0.3226678695, 1.072505318, 2.220165946, 1.92172531, -0.4027283623, 0.6943731601, -1.445441199, -1.471747058, -2.3121700869999997, -2.495171365, -2.7479599639999996, -3.8477894580000003, 1.414945703, -1.065080003, 0.5964746906, 0.13583860720000002, 0.9943505049, -0.6886456266, 0.6214998743], \"z\": [0.2975428168, -0.027096836699999998, -1.322766559, -1.274073835, -1.3889159290000002, -0.2944067984, -2.5934010169999997, -3.8412446030000003, -2.90061471, 0.3870818253, -0.47306486020000005, 1.244782859, 0.8126588139, -0.0744816109, -2.123626449, -0.31498410649999997, -2.383986581, 0.7028598505, -0.3109841618, -0.42198269509999997, -2.375686429, -4.126831402, -4.692357923, -3.696176168, -3.7285284610000002, -3.186509366, -2.037839915]}, {\"hoverinfo\": \"none\", \"marker\": {\"color\": \"grey\", \"opacity\": 1, \"size\": 7}, \"mode\": \"lines\", \"type\": \"scatter3d\", \"uid\": \"81c1d7c7-aa62-451d-8c13-e1d8bf1cf336\", \"x\": [0.5367999565, 1.735916363, null, 0.5367999565, 0.2123222632, null, 0.34664254479999995, -0.2676080396, null, 0.0633289168, -0.2676080396, null, 0.0963913085, 0.34664254479999995, null, 1.1823021059999999, 0.9140064995, null, 1.018484868, 2.091301495, null, 1.735916363, 0.34664254479999995, null, -1.295283912, -1.89802902, null, -1.295283912, -1.605199807, null, 0.5367999565, 0.34664254479999995, null, 0.46649396090000006, 0.2123222632, null, 1.1823021059999999, 1.178465359, null, 1.1823021059999999, 0.2115087571, null, 0.2123222632, 1.018484868, null, -1.545855346, -1.295283912, null, 1.735916363, 2.404492518, null, 0.2115087571, 0.21785889379999998, null, -1.295283912, 0.2123222632, null, -1.3625573819999999, -0.2676080396, null, 0.2115087571, -0.8111152226999999, null, 0.8619345740000001, 1.018484868, null, 1.1823021059999999, 2.208877138, null, 1.735916363, 2.237227535, null, 0.2115087571, 0.5367999565, null, 0.0170065112, -0.2676080396, null, 0.7080417306, 1.018484868, null], \"y\": [-0.4437906414, -1.372646073, null, -0.4437906414, 0.3692477205, null, -1.949619992, -2.7970818619999998, null, -2.495171365, -2.7970818619999998, null, -2.3121700869999997, -1.949619992, null, 1.442858134, 1.92172531, null, -0.0184400163, 0.13583860720000002, null, -1.372646073, -1.949619992, null, 0.3226678695, 0.6214998743, null, 0.3226678695, -0.6886456266, null, -0.4437906414, -1.949619992, null, 1.414945703, 0.3692477205, null, 1.442858134, 2.220165946, null, 1.442858134, 0.2985793897, null, 0.3692477205, -0.0184400163, null, 0.9943505049, 0.3226678695, null, -1.372646073, -1.445441199, null, 0.2985793897, -0.4027283623, null, 0.3226678695, 0.3692477205, null, -2.7479599639999996, -2.7970818619999998, null, 0.2985793897, 0.6943731601, null, -1.065080003, -0.0184400163, null, 1.442858134, 1.072505318, null, -1.372646073, -1.471747058, null, 0.2985793897, -0.4437906414, null, -3.8477894580000003, -2.7970818619999998, null, 0.5964746906, -0.0184400163, null], \"z\": [-1.322766559, -1.274073835, null, -1.322766559, -2.5934010169999997, null, -1.3889159290000002, -0.2944067984, null, 0.7028598505, -0.2944067984, null, -2.383986581, -1.3889159290000002, null, 0.2975428168, 1.244782859, null, -3.8412446030000003, -3.696176168, null, -1.274073835, -1.3889159290000002, null, -2.90061471, -2.037839915, null, -2.90061471, -3.186509366, null, -1.322766559, -1.3889159290000002, null, -2.375686429, -2.5934010169999997, null, 0.2975428168, -0.47306486020000005, null, 0.2975428168, -0.027096836699999998, null, -2.5934010169999997, -3.8412446030000003, null, -3.7285284610000002, -2.90061471, null, -1.274073835, -2.123626449, null, -0.027096836699999998, 0.8126588139, null, -2.90061471, -2.5934010169999997, null, -0.3109841618, -0.2944067984, null, -0.027096836699999998, -0.0744816109, null, -4.126831402, -3.8412446030000003, null, 0.2975428168, 0.3870818253, null, -1.274073835, -0.31498410649999997, null, -0.027096836699999998, -1.322766559, null, -0.42198269509999997, -0.2944067984, null, -4.692357923, -3.8412446030000003, null]}],\n",
       "                        {\"margin\": {\"b\": 0, \"l\": 0, \"r\": 0, \"t\": 0}, \"scene\": {\"annotations\": [{\"showarrow\": false, \"text\": \"0\", \"x\": 1.1823021059999999, \"y\": 1.442858134, \"yshift\": 15, \"z\": 0.2975428168}, {\"showarrow\": false, \"text\": \"1\", \"x\": 0.2115087571, \"y\": 0.2985793897, \"yshift\": 15, \"z\": -0.027096836699999998}, {\"showarrow\": false, \"text\": \"2\", \"x\": 0.5367999565, \"y\": -0.4437906414, \"yshift\": 15, \"z\": -1.322766559}, {\"showarrow\": false, \"text\": \"3\", \"x\": 1.735916363, \"y\": -1.372646073, \"yshift\": 15, \"z\": -1.274073835}, {\"showarrow\": false, \"text\": \"4\", \"x\": 0.34664254479999995, \"y\": -1.949619992, \"yshift\": 15, \"z\": -1.3889159290000002}, {\"showarrow\": false, \"text\": \"5\", \"x\": -0.2676080396, \"y\": -2.7970818619999998, \"yshift\": 15, \"z\": -0.2944067984}, {\"showarrow\": false, \"text\": \"6\", \"x\": 0.2123222632, \"y\": 0.3692477205, \"yshift\": 15, \"z\": -2.5934010169999997}, {\"showarrow\": false, \"text\": \"7\", \"x\": 1.018484868, \"y\": -0.0184400163, \"yshift\": 15, \"z\": -3.8412446030000003}, {\"showarrow\": false, \"text\": \"8\", \"x\": -1.295283912, \"y\": 0.3226678695, \"yshift\": 15, \"z\": -2.90061471}, {\"showarrow\": false, \"text\": \"9\", \"x\": 2.208877138, \"y\": 1.072505318, \"yshift\": 15, \"z\": 0.3870818253}, {\"showarrow\": false, \"text\": \"10\", \"x\": 1.178465359, \"y\": 2.220165946, \"yshift\": 15, \"z\": -0.47306486020000005}, {\"showarrow\": false, \"text\": \"11\", \"x\": 0.9140064995, \"y\": 1.92172531, \"yshift\": 15, \"z\": 1.244782859}, {\"showarrow\": false, \"text\": \"12\", \"x\": 0.21785889379999998, \"y\": -0.4027283623, \"yshift\": 15, \"z\": 0.8126588139}, {\"showarrow\": false, \"text\": \"13\", \"x\": -0.8111152226999999, \"y\": 0.6943731601, \"yshift\": 15, \"z\": -0.0744816109}, {\"showarrow\": false, \"text\": \"14\", \"x\": 2.404492518, \"y\": -1.445441199, \"yshift\": 15, \"z\": -2.123626449}, {\"showarrow\": false, \"text\": \"15\", \"x\": 2.237227535, \"y\": -1.471747058, \"yshift\": 15, \"z\": -0.31498410649999997}, {\"showarrow\": false, \"text\": \"16\", \"x\": 0.0963913085, \"y\": -2.3121700869999997, \"yshift\": 15, \"z\": -2.383986581}, {\"showarrow\": false, \"text\": \"17\", \"x\": 0.0633289168, \"y\": -2.495171365, \"yshift\": 15, \"z\": 0.7028598505}, {\"showarrow\": false, \"text\": \"18\", \"x\": -1.3625573819999999, \"y\": -2.7479599639999996, \"yshift\": 15, \"z\": -0.3109841618}, {\"showarrow\": false, \"text\": \"19\", \"x\": 0.0170065112, \"y\": -3.8477894580000003, \"yshift\": 15, \"z\": -0.42198269509999997}, {\"showarrow\": false, \"text\": \"20\", \"x\": 0.46649396090000006, \"y\": 1.414945703, \"yshift\": 15, \"z\": -2.375686429}, {\"showarrow\": false, \"text\": \"21\", \"x\": 0.8619345740000001, \"y\": -1.065080003, \"yshift\": 15, \"z\": -4.126831402}, {\"showarrow\": false, \"text\": \"22\", \"x\": 0.7080417306, \"y\": 0.5964746906, \"yshift\": 15, \"z\": -4.692357923}, {\"showarrow\": false, \"text\": \"23\", \"x\": 2.091301495, \"y\": 0.13583860720000002, \"yshift\": 15, \"z\": -3.696176168}, {\"showarrow\": false, \"text\": \"24\", \"x\": -1.545855346, \"y\": 0.9943505049, \"yshift\": 15, \"z\": -3.7285284610000002}, {\"showarrow\": false, \"text\": \"25\", \"x\": -1.605199807, \"y\": -0.6886456266, \"yshift\": 15, \"z\": -3.186509366}, {\"showarrow\": false, \"text\": \"26\", \"x\": -1.89802902, \"y\": 0.6214998743, \"yshift\": 15, \"z\": -2.037839915}], \"xaxis\": {\"showgrid\": false, \"showticklabels\": false, \"title\": {\"font\": {\"color\": \"white\"}}, \"zeroline\": false}, \"yaxis\": {\"showgrid\": false, \"showticklabels\": false, \"title\": {\"font\": {\"color\": \"white\"}}, \"zeroline\": false}, \"zaxis\": {\"showgrid\": false, \"showticklabels\": false, \"title\": {\"font\": {\"color\": \"white\"}}, \"zeroline\": false}}, \"showlegend\": false},\n",
       "                        {\"showLink\": false, \"linkText\": \"Export to plot.ly\", \"plotlyServerURL\": \"https://plot.ly\", \"responsive\": true}\n",
       "                    ).then(function(){\n",
       "                            \n",
       "var gd = document.getElementById('cda2a73b-6993-43e7-aee2-dd7345bdc8db');\n",
       "var x = new MutationObserver(function (mutations, observer) {{\n",
       "        var display = window.getComputedStyle(gd).display;\n",
       "        if (!display || display === 'none') {{\n",
       "            console.log([gd, 'removed!']);\n",
       "            Plotly.purge(gd);\n",
       "            observer.disconnect();\n",
       "        }}\n",
       "}});\n",
       "\n",
       "// Listen for the removal of the full notebook cells\n",
       "var notebookContainer = gd.closest('#notebook-container');\n",
       "if (notebookContainer) {{\n",
       "    x.observe(notebookContainer, {childList: true});\n",
       "}}\n",
       "\n",
       "// Listen for the clearing of the current output cell\n",
       "var outputEl = gd.closest('.output');\n",
       "if (outputEl) {{\n",
       "    x.observe(outputEl, {childList: true});\n",
       "}}\n",
       "\n",
       "                        })\n",
       "                };\n",
       "                });\n",
       "            </script>\n",
       "        </div>"
      ]
     },
     "metadata": {},
     "output_type": "display_data"
    },
    {
     "data": {
      "application/vnd.plotly.v1+json": {
       "config": {
        "linkText": "Export to plot.ly",
        "plotlyServerURL": "https://plot.ly",
        "showLink": false
       },
       "data": [
        {
         "marker": {
          "color": [
           "black",
           "black",
           "black",
           "black",
           "black",
           "black",
           "black",
           "black",
           "black",
           "white",
           "white",
           "white",
           "white",
           "white",
           "white",
           "white",
           "white",
           "white",
           "white",
           "white",
           "white",
           "white",
           "white",
           "white",
           "white",
           "white",
           "white",
           "white",
           "white"
          ],
          "line": {
           "color": "lightgray",
           "width": 2
          },
          "opacity": 0.8,
          "size": 7,
          "symbol": "circle"
         },
         "mode": "markers",
         "text": [
          "C",
          "C",
          "C",
          "C",
          "C",
          "C",
          "C",
          "C",
          "C",
          "H",
          "H",
          "H",
          "H",
          "H",
          "H",
          "H",
          "H",
          "H",
          "H",
          "H",
          "H",
          "H",
          "H",
          "H",
          "H",
          "H",
          "H",
          "H",
          "H"
         ],
         "type": "scatter3d",
         "uid": "f14772af-902e-4eb8-9c7d-a8a47927ef73",
         "x": [
          -0.0516921211,
          -0.1432825244,
          0.7232621459999999,
          0.1238245416,
          2.157210129,
          0.7428933326,
          -0.6759062129000001,
          1.31159294,
          1.6186126730000001,
          0.9480097826999999,
          -0.3092738062,
          -0.7508269465,
          0.12227674990000001,
          -1.192357123,
          -0.0006103823999999999,
          0.7729881094,
          -0.8596096222,
          2.580025748,
          2.834657692,
          2.164788549,
          -1.381022363,
          -0.6427266620000001,
          -1.086960082,
          2.2932008880000003,
          1.4330460090000001,
          0.6453360499,
          1.325710642,
          1.520565454,
          2.678386831
         ],
         "y": [
          1.595759449,
          0.0889346097,
          -0.4584290076,
          0.0501887372,
          0.10442007800000001,
          -2.050006231,
          -2.634685029,
          -2.634483827,
          -2.579973006,
          1.8943453369999999,
          2.200721494,
          1.86842654,
          -0.4379293295,
          -0.15703497630000002,
          1.136766667,
          -0.1743256111,
          -0.3845220736,
          -0.0376716686,
          -0.3640105429,
          1.1780230520000001,
          -2.255239187,
          -3.72399217,
          -2.423118681,
          -2.2219338509999997,
          -3.7183363839999997,
          -2.460897357,
          -2.1679296519999998,
          -3.668834055,
          -2.358743505
         ],
         "z": [
          0.1533218843,
          -0.1272520405,
          -1.300876188,
          -2.6308841519999997,
          -1.187704771,
          -1.266926595,
          -1.084507557,
          -2.5795749,
          -0.1091192601,
          0.481421173,
          -0.7217730353,
          0.9505787670999999,
          0.7962946154,
          -0.3240585306,
          -2.604969604,
          -3.481458537,
          -2.834517706,
          -0.18893727940000002,
          -1.907436446,
          -1.396398206,
          -1.8303136880000002,
          -1.195436365,
          -0.09406155990000001,
          -2.8316444169999997,
          -2.4781804640000002,
          -3.428841438,
          0.861082772,
          -0.0402536398,
          -0.2618302212
         ]
        },
        {
         "hoverinfo": "none",
         "marker": {
          "color": "grey",
          "opacity": 1,
          "size": 7
         },
         "mode": "lines",
         "type": "scatter3d",
         "uid": "b1d70d8f-a67e-49ca-9d84-a42896d80cb5",
         "x": [
          2.834657692,
          2.157210129,
          null,
          0.7232621459999999,
          0.1238245416,
          null,
          1.6186126730000001,
          1.520565454,
          null,
          1.4330460090000001,
          1.31159294,
          null,
          -0.0516921211,
          -0.7508269465,
          null,
          1.31159294,
          2.2932008880000003,
          null,
          -0.6427266620000001,
          -0.6759062129000001,
          null,
          0.6453360499,
          1.31159294,
          null,
          1.6186126730000001,
          1.325710642,
          null,
          0.7232621459999999,
          2.157210129,
          null,
          0.7428933326,
          -0.6759062129000001,
          null,
          2.580025748,
          2.157210129,
          null,
          1.6186126730000001,
          0.7428933326,
          null,
          -1.381022363,
          -0.6759062129000001,
          null,
          -0.0516921211,
          -0.3092738062,
          null,
          -0.0516921211,
          -0.1432825244,
          null,
          0.1238245416,
          -0.0006103823999999999,
          null,
          -0.1432825244,
          0.12227674990000001,
          null,
          -0.1432825244,
          -1.192357123,
          null,
          0.7428933326,
          1.31159294,
          null,
          -0.0516921211,
          0.9480097826999999,
          null,
          0.1238245416,
          0.7729881094,
          null,
          -1.086960082,
          -0.6759062129000001,
          null,
          -0.1432825244,
          0.7232621459999999,
          null,
          2.164788549,
          2.157210129,
          null,
          0.7232621459999999,
          0.7428933326,
          null,
          1.6186126730000001,
          2.678386831,
          null,
          -0.8596096222,
          0.1238245416,
          null
         ],
         "y": [
          -0.3640105429,
          0.10442007800000001,
          null,
          -0.4584290076,
          0.0501887372,
          null,
          -2.579973006,
          -3.668834055,
          null,
          -3.7183363839999997,
          -2.634483827,
          null,
          1.595759449,
          1.86842654,
          null,
          -2.634483827,
          -2.2219338509999997,
          null,
          -3.72399217,
          -2.634685029,
          null,
          -2.460897357,
          -2.634483827,
          null,
          -2.579973006,
          -2.1679296519999998,
          null,
          -0.4584290076,
          0.10442007800000001,
          null,
          -2.050006231,
          -2.634685029,
          null,
          -0.0376716686,
          0.10442007800000001,
          null,
          -2.579973006,
          -2.050006231,
          null,
          -2.255239187,
          -2.634685029,
          null,
          1.595759449,
          2.200721494,
          null,
          1.595759449,
          0.0889346097,
          null,
          0.0501887372,
          1.136766667,
          null,
          0.0889346097,
          -0.4379293295,
          null,
          0.0889346097,
          -0.15703497630000002,
          null,
          -2.050006231,
          -2.634483827,
          null,
          1.595759449,
          1.8943453369999999,
          null,
          0.0501887372,
          -0.1743256111,
          null,
          -2.423118681,
          -2.634685029,
          null,
          0.0889346097,
          -0.4584290076,
          null,
          1.1780230520000001,
          0.10442007800000001,
          null,
          -0.4584290076,
          -2.050006231,
          null,
          -2.579973006,
          -2.358743505,
          null,
          -0.3845220736,
          0.0501887372,
          null
         ],
         "z": [
          -1.907436446,
          -1.187704771,
          null,
          -1.300876188,
          -2.6308841519999997,
          null,
          -0.1091192601,
          -0.0402536398,
          null,
          -2.4781804640000002,
          -2.5795749,
          null,
          0.1533218843,
          0.9505787670999999,
          null,
          -2.5795749,
          -2.8316444169999997,
          null,
          -1.195436365,
          -1.084507557,
          null,
          -3.428841438,
          -2.5795749,
          null,
          -0.1091192601,
          0.861082772,
          null,
          -1.300876188,
          -1.187704771,
          null,
          -1.266926595,
          -1.084507557,
          null,
          -0.18893727940000002,
          -1.187704771,
          null,
          -0.1091192601,
          -1.266926595,
          null,
          -1.8303136880000002,
          -1.084507557,
          null,
          0.1533218843,
          -0.7217730353,
          null,
          0.1533218843,
          -0.1272520405,
          null,
          -2.6308841519999997,
          -2.604969604,
          null,
          -0.1272520405,
          0.7962946154,
          null,
          -0.1272520405,
          -0.3240585306,
          null,
          -1.266926595,
          -2.5795749,
          null,
          0.1533218843,
          0.481421173,
          null,
          -2.6308841519999997,
          -3.481458537,
          null,
          -0.09406155990000001,
          -1.084507557,
          null,
          -0.1272520405,
          -1.300876188,
          null,
          -1.396398206,
          -1.187704771,
          null,
          -1.300876188,
          -1.266926595,
          null,
          -0.1091192601,
          -0.2618302212,
          null,
          -2.834517706,
          -2.6308841519999997,
          null
         ]
        }
       ],
       "layout": {
        "margin": {
         "b": 0,
         "l": 0,
         "r": 0,
         "t": 0
        },
        "scene": {
         "annotations": [
          {
           "showarrow": false,
           "text": "0",
           "x": -0.0516921211,
           "y": 1.595759449,
           "yshift": 15,
           "z": 0.1533218843
          },
          {
           "showarrow": false,
           "text": "1",
           "x": -0.1432825244,
           "y": 0.0889346097,
           "yshift": 15,
           "z": -0.1272520405
          },
          {
           "showarrow": false,
           "text": "2",
           "x": 0.7232621459999999,
           "y": -0.4584290076,
           "yshift": 15,
           "z": -1.300876188
          },
          {
           "showarrow": false,
           "text": "3",
           "x": 0.1238245416,
           "y": 0.0501887372,
           "yshift": 15,
           "z": -2.6308841519999997
          },
          {
           "showarrow": false,
           "text": "4",
           "x": 2.157210129,
           "y": 0.10442007800000001,
           "yshift": 15,
           "z": -1.187704771
          },
          {
           "showarrow": false,
           "text": "5",
           "x": 0.7428933326,
           "y": -2.050006231,
           "yshift": 15,
           "z": -1.266926595
          },
          {
           "showarrow": false,
           "text": "6",
           "x": -0.6759062129000001,
           "y": -2.634685029,
           "yshift": 15,
           "z": -1.084507557
          },
          {
           "showarrow": false,
           "text": "7",
           "x": 1.31159294,
           "y": -2.634483827,
           "yshift": 15,
           "z": -2.5795749
          },
          {
           "showarrow": false,
           "text": "8",
           "x": 1.6186126730000001,
           "y": -2.579973006,
           "yshift": 15,
           "z": -0.1091192601
          },
          {
           "showarrow": false,
           "text": "9",
           "x": 0.9480097826999999,
           "y": 1.8943453369999999,
           "yshift": 15,
           "z": 0.481421173
          },
          {
           "showarrow": false,
           "text": "10",
           "x": -0.3092738062,
           "y": 2.200721494,
           "yshift": 15,
           "z": -0.7217730353
          },
          {
           "showarrow": false,
           "text": "11",
           "x": -0.7508269465,
           "y": 1.86842654,
           "yshift": 15,
           "z": 0.9505787670999999
          },
          {
           "showarrow": false,
           "text": "12",
           "x": 0.12227674990000001,
           "y": -0.4379293295,
           "yshift": 15,
           "z": 0.7962946154
          },
          {
           "showarrow": false,
           "text": "13",
           "x": -1.192357123,
           "y": -0.15703497630000002,
           "yshift": 15,
           "z": -0.3240585306
          },
          {
           "showarrow": false,
           "text": "14",
           "x": -0.0006103823999999999,
           "y": 1.136766667,
           "yshift": 15,
           "z": -2.604969604
          },
          {
           "showarrow": false,
           "text": "15",
           "x": 0.7729881094,
           "y": -0.1743256111,
           "yshift": 15,
           "z": -3.481458537
          },
          {
           "showarrow": false,
           "text": "16",
           "x": -0.8596096222,
           "y": -0.3845220736,
           "yshift": 15,
           "z": -2.834517706
          },
          {
           "showarrow": false,
           "text": "17",
           "x": 2.580025748,
           "y": -0.0376716686,
           "yshift": 15,
           "z": -0.18893727940000002
          },
          {
           "showarrow": false,
           "text": "18",
           "x": 2.834657692,
           "y": -0.3640105429,
           "yshift": 15,
           "z": -1.907436446
          },
          {
           "showarrow": false,
           "text": "19",
           "x": 2.164788549,
           "y": 1.1780230520000001,
           "yshift": 15,
           "z": -1.396398206
          },
          {
           "showarrow": false,
           "text": "20",
           "x": -1.381022363,
           "y": -2.255239187,
           "yshift": 15,
           "z": -1.8303136880000002
          },
          {
           "showarrow": false,
           "text": "21",
           "x": -0.6427266620000001,
           "y": -3.72399217,
           "yshift": 15,
           "z": -1.195436365
          },
          {
           "showarrow": false,
           "text": "22",
           "x": -1.086960082,
           "y": -2.423118681,
           "yshift": 15,
           "z": -0.09406155990000001
          },
          {
           "showarrow": false,
           "text": "23",
           "x": 2.2932008880000003,
           "y": -2.2219338509999997,
           "yshift": 15,
           "z": -2.8316444169999997
          },
          {
           "showarrow": false,
           "text": "24",
           "x": 1.4330460090000001,
           "y": -3.7183363839999997,
           "yshift": 15,
           "z": -2.4781804640000002
          },
          {
           "showarrow": false,
           "text": "25",
           "x": 0.6453360499,
           "y": -2.460897357,
           "yshift": 15,
           "z": -3.428841438
          },
          {
           "showarrow": false,
           "text": "26",
           "x": 1.325710642,
           "y": -2.1679296519999998,
           "yshift": 15,
           "z": 0.861082772
          },
          {
           "showarrow": false,
           "text": "27",
           "x": 1.520565454,
           "y": -3.668834055,
           "yshift": 15,
           "z": -0.0402536398
          },
          {
           "showarrow": false,
           "text": "28",
           "x": 2.678386831,
           "y": -2.358743505,
           "yshift": 15,
           "z": -0.2618302212
          }
         ],
         "xaxis": {
          "showgrid": false,
          "showticklabels": false,
          "title": {
           "font": {
            "color": "white"
           }
          },
          "zeroline": false
         },
         "yaxis": {
          "showgrid": false,
          "showticklabels": false,
          "title": {
           "font": {
            "color": "white"
           }
          },
          "zeroline": false
         },
         "zaxis": {
          "showgrid": false,
          "showticklabels": false,
          "title": {
           "font": {
            "color": "white"
           }
          },
          "zeroline": false
         }
        },
        "showlegend": false
       }
      },
      "text/html": [
       "<div>\n",
       "        \n",
       "        \n",
       "            <div id=\"72496f7f-fbbd-47aa-b588-c59bb34fc96b\" class=\"plotly-graph-div\" style=\"height:525px; width:100%;\"></div>\n",
       "            <script type=\"text/javascript\">\n",
       "                require([\"plotly\"], function(Plotly) {\n",
       "                    window.PLOTLYENV=window.PLOTLYENV || {};\n",
       "                    window.PLOTLYENV.BASE_URL='https://plot.ly';\n",
       "                    \n",
       "                if (document.getElementById(\"72496f7f-fbbd-47aa-b588-c59bb34fc96b\")) {\n",
       "                    Plotly.newPlot(\n",
       "                        '72496f7f-fbbd-47aa-b588-c59bb34fc96b',\n",
       "                        [{\"marker\": {\"color\": [\"black\", \"black\", \"black\", \"black\", \"black\", \"black\", \"black\", \"black\", \"black\", \"white\", \"white\", \"white\", \"white\", \"white\", \"white\", \"white\", \"white\", \"white\", \"white\", \"white\", \"white\", \"white\", \"white\", \"white\", \"white\", \"white\", \"white\", \"white\", \"white\"], \"line\": {\"color\": \"lightgray\", \"width\": 2}, \"opacity\": 0.8, \"size\": 7, \"symbol\": \"circle\"}, \"mode\": \"markers\", \"text\": [\"C\", \"C\", \"C\", \"C\", \"C\", \"C\", \"C\", \"C\", \"C\", \"H\", \"H\", \"H\", \"H\", \"H\", \"H\", \"H\", \"H\", \"H\", \"H\", \"H\", \"H\", \"H\", \"H\", \"H\", \"H\", \"H\", \"H\", \"H\", \"H\"], \"type\": \"scatter3d\", \"uid\": \"f14772af-902e-4eb8-9c7d-a8a47927ef73\", \"x\": [-0.0516921211, -0.1432825244, 0.7232621459999999, 0.1238245416, 2.157210129, 0.7428933326, -0.6759062129000001, 1.31159294, 1.6186126730000001, 0.9480097826999999, -0.3092738062, -0.7508269465, 0.12227674990000001, -1.192357123, -0.0006103823999999999, 0.7729881094, -0.8596096222, 2.580025748, 2.834657692, 2.164788549, -1.381022363, -0.6427266620000001, -1.086960082, 2.2932008880000003, 1.4330460090000001, 0.6453360499, 1.325710642, 1.520565454, 2.678386831], \"y\": [1.595759449, 0.0889346097, -0.4584290076, 0.0501887372, 0.10442007800000001, -2.050006231, -2.634685029, -2.634483827, -2.579973006, 1.8943453369999999, 2.200721494, 1.86842654, -0.4379293295, -0.15703497630000002, 1.136766667, -0.1743256111, -0.3845220736, -0.0376716686, -0.3640105429, 1.1780230520000001, -2.255239187, -3.72399217, -2.423118681, -2.2219338509999997, -3.7183363839999997, -2.460897357, -2.1679296519999998, -3.668834055, -2.358743505], \"z\": [0.1533218843, -0.1272520405, -1.300876188, -2.6308841519999997, -1.187704771, -1.266926595, -1.084507557, -2.5795749, -0.1091192601, 0.481421173, -0.7217730353, 0.9505787670999999, 0.7962946154, -0.3240585306, -2.604969604, -3.481458537, -2.834517706, -0.18893727940000002, -1.907436446, -1.396398206, -1.8303136880000002, -1.195436365, -0.09406155990000001, -2.8316444169999997, -2.4781804640000002, -3.428841438, 0.861082772, -0.0402536398, -0.2618302212]}, {\"hoverinfo\": \"none\", \"marker\": {\"color\": \"grey\", \"opacity\": 1, \"size\": 7}, \"mode\": \"lines\", \"type\": \"scatter3d\", \"uid\": \"b1d70d8f-a67e-49ca-9d84-a42896d80cb5\", \"x\": [2.834657692, 2.157210129, null, 0.7232621459999999, 0.1238245416, null, 1.6186126730000001, 1.520565454, null, 1.4330460090000001, 1.31159294, null, -0.0516921211, -0.7508269465, null, 1.31159294, 2.2932008880000003, null, -0.6427266620000001, -0.6759062129000001, null, 0.6453360499, 1.31159294, null, 1.6186126730000001, 1.325710642, null, 0.7232621459999999, 2.157210129, null, 0.7428933326, -0.6759062129000001, null, 2.580025748, 2.157210129, null, 1.6186126730000001, 0.7428933326, null, -1.381022363, -0.6759062129000001, null, -0.0516921211, -0.3092738062, null, -0.0516921211, -0.1432825244, null, 0.1238245416, -0.0006103823999999999, null, -0.1432825244, 0.12227674990000001, null, -0.1432825244, -1.192357123, null, 0.7428933326, 1.31159294, null, -0.0516921211, 0.9480097826999999, null, 0.1238245416, 0.7729881094, null, -1.086960082, -0.6759062129000001, null, -0.1432825244, 0.7232621459999999, null, 2.164788549, 2.157210129, null, 0.7232621459999999, 0.7428933326, null, 1.6186126730000001, 2.678386831, null, -0.8596096222, 0.1238245416, null], \"y\": [-0.3640105429, 0.10442007800000001, null, -0.4584290076, 0.0501887372, null, -2.579973006, -3.668834055, null, -3.7183363839999997, -2.634483827, null, 1.595759449, 1.86842654, null, -2.634483827, -2.2219338509999997, null, -3.72399217, -2.634685029, null, -2.460897357, -2.634483827, null, -2.579973006, -2.1679296519999998, null, -0.4584290076, 0.10442007800000001, null, -2.050006231, -2.634685029, null, -0.0376716686, 0.10442007800000001, null, -2.579973006, -2.050006231, null, -2.255239187, -2.634685029, null, 1.595759449, 2.200721494, null, 1.595759449, 0.0889346097, null, 0.0501887372, 1.136766667, null, 0.0889346097, -0.4379293295, null, 0.0889346097, -0.15703497630000002, null, -2.050006231, -2.634483827, null, 1.595759449, 1.8943453369999999, null, 0.0501887372, -0.1743256111, null, -2.423118681, -2.634685029, null, 0.0889346097, -0.4584290076, null, 1.1780230520000001, 0.10442007800000001, null, -0.4584290076, -2.050006231, null, -2.579973006, -2.358743505, null, -0.3845220736, 0.0501887372, null], \"z\": [-1.907436446, -1.187704771, null, -1.300876188, -2.6308841519999997, null, -0.1091192601, -0.0402536398, null, -2.4781804640000002, -2.5795749, null, 0.1533218843, 0.9505787670999999, null, -2.5795749, -2.8316444169999997, null, -1.195436365, -1.084507557, null, -3.428841438, -2.5795749, null, -0.1091192601, 0.861082772, null, -1.300876188, -1.187704771, null, -1.266926595, -1.084507557, null, -0.18893727940000002, -1.187704771, null, -0.1091192601, -1.266926595, null, -1.8303136880000002, -1.084507557, null, 0.1533218843, -0.7217730353, null, 0.1533218843, -0.1272520405, null, -2.6308841519999997, -2.604969604, null, -0.1272520405, 0.7962946154, null, -0.1272520405, -0.3240585306, null, -1.266926595, -2.5795749, null, 0.1533218843, 0.481421173, null, -2.6308841519999997, -3.481458537, null, -0.09406155990000001, -1.084507557, null, -0.1272520405, -1.300876188, null, -1.396398206, -1.187704771, null, -1.300876188, -1.266926595, null, -0.1091192601, -0.2618302212, null, -2.834517706, -2.6308841519999997, null]}],\n",
       "                        {\"margin\": {\"b\": 0, \"l\": 0, \"r\": 0, \"t\": 0}, \"scene\": {\"annotations\": [{\"showarrow\": false, \"text\": \"0\", \"x\": -0.0516921211, \"y\": 1.595759449, \"yshift\": 15, \"z\": 0.1533218843}, {\"showarrow\": false, \"text\": \"1\", \"x\": -0.1432825244, \"y\": 0.0889346097, \"yshift\": 15, \"z\": -0.1272520405}, {\"showarrow\": false, \"text\": \"2\", \"x\": 0.7232621459999999, \"y\": -0.4584290076, \"yshift\": 15, \"z\": -1.300876188}, {\"showarrow\": false, \"text\": \"3\", \"x\": 0.1238245416, \"y\": 0.0501887372, \"yshift\": 15, \"z\": -2.6308841519999997}, {\"showarrow\": false, \"text\": \"4\", \"x\": 2.157210129, \"y\": 0.10442007800000001, \"yshift\": 15, \"z\": -1.187704771}, {\"showarrow\": false, \"text\": \"5\", \"x\": 0.7428933326, \"y\": -2.050006231, \"yshift\": 15, \"z\": -1.266926595}, {\"showarrow\": false, \"text\": \"6\", \"x\": -0.6759062129000001, \"y\": -2.634685029, \"yshift\": 15, \"z\": -1.084507557}, {\"showarrow\": false, \"text\": \"7\", \"x\": 1.31159294, \"y\": -2.634483827, \"yshift\": 15, \"z\": -2.5795749}, {\"showarrow\": false, \"text\": \"8\", \"x\": 1.6186126730000001, \"y\": -2.579973006, \"yshift\": 15, \"z\": -0.1091192601}, {\"showarrow\": false, \"text\": \"9\", \"x\": 0.9480097826999999, \"y\": 1.8943453369999999, \"yshift\": 15, \"z\": 0.481421173}, {\"showarrow\": false, \"text\": \"10\", \"x\": -0.3092738062, \"y\": 2.200721494, \"yshift\": 15, \"z\": -0.7217730353}, {\"showarrow\": false, \"text\": \"11\", \"x\": -0.7508269465, \"y\": 1.86842654, \"yshift\": 15, \"z\": 0.9505787670999999}, {\"showarrow\": false, \"text\": \"12\", \"x\": 0.12227674990000001, \"y\": -0.4379293295, \"yshift\": 15, \"z\": 0.7962946154}, {\"showarrow\": false, \"text\": \"13\", \"x\": -1.192357123, \"y\": -0.15703497630000002, \"yshift\": 15, \"z\": -0.3240585306}, {\"showarrow\": false, \"text\": \"14\", \"x\": -0.0006103823999999999, \"y\": 1.136766667, \"yshift\": 15, \"z\": -2.604969604}, {\"showarrow\": false, \"text\": \"15\", \"x\": 0.7729881094, \"y\": -0.1743256111, \"yshift\": 15, \"z\": -3.481458537}, {\"showarrow\": false, \"text\": \"16\", \"x\": -0.8596096222, \"y\": -0.3845220736, \"yshift\": 15, \"z\": -2.834517706}, {\"showarrow\": false, \"text\": \"17\", \"x\": 2.580025748, \"y\": -0.0376716686, \"yshift\": 15, \"z\": -0.18893727940000002}, {\"showarrow\": false, \"text\": \"18\", \"x\": 2.834657692, \"y\": -0.3640105429, \"yshift\": 15, \"z\": -1.907436446}, {\"showarrow\": false, \"text\": \"19\", \"x\": 2.164788549, \"y\": 1.1780230520000001, \"yshift\": 15, \"z\": -1.396398206}, {\"showarrow\": false, \"text\": \"20\", \"x\": -1.381022363, \"y\": -2.255239187, \"yshift\": 15, \"z\": -1.8303136880000002}, {\"showarrow\": false, \"text\": \"21\", \"x\": -0.6427266620000001, \"y\": -3.72399217, \"yshift\": 15, \"z\": -1.195436365}, {\"showarrow\": false, \"text\": \"22\", \"x\": -1.086960082, \"y\": -2.423118681, \"yshift\": 15, \"z\": -0.09406155990000001}, {\"showarrow\": false, \"text\": \"23\", \"x\": 2.2932008880000003, \"y\": -2.2219338509999997, \"yshift\": 15, \"z\": -2.8316444169999997}, {\"showarrow\": false, \"text\": \"24\", \"x\": 1.4330460090000001, \"y\": -3.7183363839999997, \"yshift\": 15, \"z\": -2.4781804640000002}, {\"showarrow\": false, \"text\": \"25\", \"x\": 0.6453360499, \"y\": -2.460897357, \"yshift\": 15, \"z\": -3.428841438}, {\"showarrow\": false, \"text\": \"26\", \"x\": 1.325710642, \"y\": -2.1679296519999998, \"yshift\": 15, \"z\": 0.861082772}, {\"showarrow\": false, \"text\": \"27\", \"x\": 1.520565454, \"y\": -3.668834055, \"yshift\": 15, \"z\": -0.0402536398}, {\"showarrow\": false, \"text\": \"28\", \"x\": 2.678386831, \"y\": -2.358743505, \"yshift\": 15, \"z\": -0.2618302212}], \"xaxis\": {\"showgrid\": false, \"showticklabels\": false, \"title\": {\"font\": {\"color\": \"white\"}}, \"zeroline\": false}, \"yaxis\": {\"showgrid\": false, \"showticklabels\": false, \"title\": {\"font\": {\"color\": \"white\"}}, \"zeroline\": false}, \"zaxis\": {\"showgrid\": false, \"showticklabels\": false, \"title\": {\"font\": {\"color\": \"white\"}}, \"zeroline\": false}}, \"showlegend\": false},\n",
       "                        {\"showLink\": false, \"linkText\": \"Export to plot.ly\", \"plotlyServerURL\": \"https://plot.ly\", \"responsive\": true}\n",
       "                    ).then(function(){\n",
       "                            \n",
       "var gd = document.getElementById('72496f7f-fbbd-47aa-b588-c59bb34fc96b');\n",
       "var x = new MutationObserver(function (mutations, observer) {{\n",
       "        var display = window.getComputedStyle(gd).display;\n",
       "        if (!display || display === 'none') {{\n",
       "            console.log([gd, 'removed!']);\n",
       "            Plotly.purge(gd);\n",
       "            observer.disconnect();\n",
       "        }}\n",
       "}});\n",
       "\n",
       "// Listen for the removal of the full notebook cells\n",
       "var notebookContainer = gd.closest('#notebook-container');\n",
       "if (notebookContainer) {{\n",
       "    x.observe(notebookContainer, {childList: true});\n",
       "}}\n",
       "\n",
       "// Listen for the clearing of the current output cell\n",
       "var outputEl = gd.closest('.output');\n",
       "if (outputEl) {{\n",
       "    x.observe(outputEl, {childList: true});\n",
       "}}\n",
       "\n",
       "                        })\n",
       "                };\n",
       "                });\n",
       "            </script>\n",
       "        </div>"
      ]
     },
     "metadata": {},
     "output_type": "display_data"
    }
   ],
   "source": [
    "# Plots\n",
    "\n",
    "plot_molecule('dsgdb9nsd_133885', structures)\n",
    "\n",
    "plot_molecule('dsgdb9nsd_105227', structures)\n",
    "\n",
    "plot_molecule('dsgdb9nsd_099964', structures)"
   ]
  },
  {
   "cell_type": "markdown",
   "metadata": {},
   "source": [
    "### Duplicate Check"
   ]
  },
  {
   "cell_type": "code",
   "execution_count": 11,
   "metadata": {},
   "outputs": [
    {
     "data": {
      "text/plain": [
       "False"
      ]
     },
     "execution_count": 11,
     "metadata": {},
     "output_type": "execute_result"
    },
    {
     "data": {
      "text/plain": [
       "False"
      ]
     },
     "execution_count": 11,
     "metadata": {},
     "output_type": "execute_result"
    }
   ],
   "source": [
    "# We check if we have duplicates\n",
    "train.duplicated().any()\n",
    "test.duplicated().any()"
   ]
  },
  {
   "cell_type": "markdown",
   "metadata": {},
   "source": [
    "### Label Encoding"
   ]
  },
  {
   "cell_type": "markdown",
   "metadata": {},
   "source": [
    "Before modeling it would be a good idea to do a Label Encoding to variables which are still as objects in order to improve the model's performance."
   ]
  },
  {
   "cell_type": "code",
   "execution_count": 12,
   "metadata": {},
   "outputs": [],
   "source": [
    "categoricals = train.select_dtypes(include='object').columns\n",
    "categoricals = test.select_dtypes(include='object').columns"
   ]
  },
  {
   "cell_type": "code",
   "execution_count": 14,
   "metadata": {},
   "outputs": [
    {
     "data": {
      "text/plain": [
       "LabelEncoder()"
      ]
     },
     "execution_count": 14,
     "metadata": {},
     "output_type": "execute_result"
    },
    {
     "data": {
      "text/plain": [
       "LabelEncoder()"
      ]
     },
     "execution_count": 14,
     "metadata": {},
     "output_type": "execute_result"
    }
   ],
   "source": [
    "for c in categoricals:\n",
    "    lbl = LabelEncoder()\n",
    "    lbl.fit(list(train[c].values))\n",
    "    train[c] = lbl.transform(list(train[c].values))"
   ]
  },
  {
   "cell_type": "code",
   "execution_count": 15,
   "metadata": {},
   "outputs": [
    {
     "data": {
      "text/plain": [
       "LabelEncoder()"
      ]
     },
     "execution_count": 15,
     "metadata": {},
     "output_type": "execute_result"
    },
    {
     "data": {
      "text/plain": [
       "LabelEncoder()"
      ]
     },
     "execution_count": 15,
     "metadata": {},
     "output_type": "execute_result"
    }
   ],
   "source": [
    "for c in categoricals:\n",
    "    lbl = LabelEncoder()\n",
    "    lbl.fit(list(test[c].values))\n",
    "    test[c] = lbl.transform(list(test[c].values))"
   ]
  },
  {
   "cell_type": "code",
   "execution_count": 16,
   "metadata": {},
   "outputs": [
    {
     "data": {
      "text/plain": [
       "id                            int64\n",
       "molecule_name                 int64\n",
       "atom_index_0                  int64\n",
       "atom_index_1                  int64\n",
       "type                          int64\n",
       "scalar_coupling_constant    float64\n",
       "dtype: object"
      ]
     },
     "execution_count": 16,
     "metadata": {},
     "output_type": "execute_result"
    },
    {
     "data": {
      "text/plain": [
       "id               int64\n",
       "molecule_name    int64\n",
       "atom_index_0     int64\n",
       "atom_index_1     int64\n",
       "type             int64\n",
       "dtype: object"
      ]
     },
     "execution_count": 16,
     "metadata": {},
     "output_type": "execute_result"
    }
   ],
   "source": [
    "# Check it has been done properly\n",
    "train.dtypes\n",
    "test.dtypes"
   ]
  },
  {
   "cell_type": "markdown",
   "metadata": {},
   "source": [
    "## Metric"
   ]
  },
  {
   "cell_type": "code",
   "execution_count": null,
   "metadata": {},
   "outputs": [],
   "source": [
    "def metric(df, preds):\n",
    "    \n",
    "    df[\"prediction\"] = preds\n",
    "    maes = []\n",
    "    \n",
    "    for t in df.type.unique():\n",
    "        \n",
    "        y_true = df[df.type==t].scalar_coupling_constant.values\n",
    "        y_pred = df[df.type==t].prediction.values\n",
    "        mae = np.log(metrics.mean_absolute_error(y_true, y_pred))\n",
    "        maes.append(mae)\n",
    "    \n",
    "    return np.mean(maes)"
   ]
  },
  {
   "cell_type": "markdown",
   "metadata": {},
   "source": [
    "# Modeling"
   ]
  },
  {
   "cell_type": "code",
   "execution_count": 17,
   "metadata": {},
   "outputs": [],
   "source": [
    "X = train.drop(['id', 'molecule_name', 'scalar_coupling_constant'], axis=1)\n",
    "X_test = test.drop(['id', 'molecule_name'], axis=1)"
   ]
  },
  {
   "cell_type": "markdown",
   "metadata": {},
   "source": [
    "### Setting K-Folds"
   ]
  },
  {
   "cell_type": "code",
   "execution_count": 18,
   "metadata": {},
   "outputs": [],
   "source": [
    "# Setting a 5-fold stratified cross-validation (note: shuffle=True)\n",
    "skf = KFold(n_splits=5, shuffle=True, random_state=8)"
   ]
  },
  {
   "cell_type": "code",
   "execution_count": 19,
   "metadata": {},
   "outputs": [],
   "source": [
    "params = {'booster' : 'gbtree',\n",
    "          #'nthread' : 5,\n",
    "          'objective' : 'reg:linear',\n",
    "          'eval_metric' : 'mae', \n",
    "          'max_depth' : 8,\n",
    "          'eta' : 0.3,\n",
    "          'subsample' : 0.7, \n",
    "          'colsample_bytree' : 0.7 \n",
    "        }"
   ]
  },
  {
   "cell_type": "code",
   "execution_count": 20,
   "metadata": {},
   "outputs": [],
   "source": [
    "# We define de label\n",
    "y = train['scalar_coupling_constant']"
   ]
  },
  {
   "cell_type": "code",
   "execution_count": 21,
   "metadata": {},
   "outputs": [],
   "source": [
    "dtrain = xgb.DMatrix(train, label = y)"
   ]
  },
  {
   "cell_type": "code",
   "execution_count": null,
   "metadata": {
    "scrolled": true
   },
   "outputs": [
    {
     "name": "stdout",
     "output_type": "stream",
     "text": [
      "[14:07:13] src/tree/updater_prune.cc:74: tree pruning end, 1 roots, 308 extra nodes, 0 pruned nodes, max_depth=8\n",
      "[14:07:20] src/tree/updater_prune.cc:74: tree pruning end, 1 roots, 306 extra nodes, 0 pruned nodes, max_depth=8\n",
      "[14:07:27] src/tree/updater_prune.cc:74: tree pruning end, 1 roots, 306 extra nodes, 0 pruned nodes, max_depth=8\n",
      "[14:07:34] src/tree/updater_prune.cc:74: tree pruning end, 1 roots, 306 extra nodes, 0 pruned nodes, max_depth=8\n",
      "[14:07:41] src/tree/updater_prune.cc:74: tree pruning end, 1 roots, 306 extra nodes, 0 pruned nodes, max_depth=8\n",
      "[0]\ttrain-mae:12.7356+0.00539494\ttest-mae:12.7356+0.0215321\n",
      "[14:07:47] src/tree/updater_prune.cc:74: tree pruning end, 1 roots, 310 extra nodes, 0 pruned nodes, max_depth=8\n",
      "[14:07:52] src/tree/updater_prune.cc:74: tree pruning end, 1 roots, 310 extra nodes, 0 pruned nodes, max_depth=8\n",
      "[14:07:57] src/tree/updater_prune.cc:74: tree pruning end, 1 roots, 306 extra nodes, 0 pruned nodes, max_depth=8\n",
      "[14:08:02] src/tree/updater_prune.cc:74: tree pruning end, 1 roots, 438 extra nodes, 0 pruned nodes, max_depth=8\n",
      "[14:08:05] src/tree/updater_prune.cc:74: tree pruning end, 1 roots, 434 extra nodes, 0 pruned nodes, max_depth=8\n",
      "[1]\ttrain-mae:9.03193+0.143585\ttest-mae:9.03158+0.139268\n",
      "[14:08:10] src/tree/updater_prune.cc:74: tree pruning end, 1 roots, 310 extra nodes, 0 pruned nodes, max_depth=8\n",
      "[14:08:15] src/tree/updater_prune.cc:74: tree pruning end, 1 roots, 316 extra nodes, 0 pruned nodes, max_depth=8\n",
      "[14:08:20] src/tree/updater_prune.cc:74: tree pruning end, 1 roots, 312 extra nodes, 0 pruned nodes, max_depth=8\n",
      "[14:08:25] src/tree/updater_prune.cc:74: tree pruning end, 1 roots, 344 extra nodes, 0 pruned nodes, max_depth=8\n",
      "[14:08:30] src/tree/updater_prune.cc:74: tree pruning end, 1 roots, 352 extra nodes, 0 pruned nodes, max_depth=8\n",
      "[2]\ttrain-mae:6.3276+0.106576\ttest-mae:6.32735+0.103134\n",
      "[14:08:35] src/tree/updater_prune.cc:74: tree pruning end, 1 roots, 306 extra nodes, 0 pruned nodes, max_depth=8\n",
      "[14:08:39] src/tree/updater_prune.cc:74: tree pruning end, 1 roots, 316 extra nodes, 0 pruned nodes, max_depth=8\n",
      "[14:08:43] src/tree/updater_prune.cc:74: tree pruning end, 1 roots, 378 extra nodes, 0 pruned nodes, max_depth=8\n",
      "[14:08:48] src/tree/updater_prune.cc:74: tree pruning end, 1 roots, 394 extra nodes, 0 pruned nodes, max_depth=8\n",
      "[14:08:53] src/tree/updater_prune.cc:74: tree pruning end, 1 roots, 370 extra nodes, 0 pruned nodes, max_depth=8\n",
      "[3]\ttrain-mae:4.46134+0.0751405\ttest-mae:4.46112+0.0765058\n",
      "[14:08:57] src/tree/updater_prune.cc:74: tree pruning end, 1 roots, 442 extra nodes, 0 pruned nodes, max_depth=8\n",
      "[14:09:02] src/tree/updater_prune.cc:74: tree pruning end, 1 roots, 310 extra nodes, 0 pruned nodes, max_depth=8\n",
      "[14:09:06] src/tree/updater_prune.cc:74: tree pruning end, 1 roots, 440 extra nodes, 0 pruned nodes, max_depth=8\n",
      "[14:09:11] src/tree/updater_prune.cc:74: tree pruning end, 1 roots, 416 extra nodes, 0 pruned nodes, max_depth=8\n",
      "[14:09:16] src/tree/updater_prune.cc:74: tree pruning end, 1 roots, 416 extra nodes, 0 pruned nodes, max_depth=8\n",
      "[4]\ttrain-mae:3.18408+0.0891334\ttest-mae:3.18394+0.0919355\n",
      "[14:09:22] src/tree/updater_prune.cc:74: tree pruning end, 1 roots, 358 extra nodes, 0 pruned nodes, max_depth=8\n",
      "[14:09:27] src/tree/updater_prune.cc:74: tree pruning end, 1 roots, 318 extra nodes, 0 pruned nodes, max_depth=8\n",
      "[14:09:30] src/tree/updater_prune.cc:74: tree pruning end, 1 roots, 428 extra nodes, 0 pruned nodes, max_depth=8\n",
      "[14:09:34] src/tree/updater_prune.cc:74: tree pruning end, 1 roots, 468 extra nodes, 0 pruned nodes, max_depth=8\n",
      "[14:09:39] src/tree/updater_prune.cc:74: tree pruning end, 1 roots, 430 extra nodes, 0 pruned nodes, max_depth=8\n",
      "[5]\ttrain-mae:2.29723+0.13672\ttest-mae:2.29714+0.139515\n",
      "[14:09:45] src/tree/updater_prune.cc:74: tree pruning end, 1 roots, 376 extra nodes, 0 pruned nodes, max_depth=8\n",
      "[14:09:50] src/tree/updater_prune.cc:74: tree pruning end, 1 roots, 324 extra nodes, 0 pruned nodes, max_depth=8\n",
      "[14:09:53] src/tree/updater_prune.cc:74: tree pruning end, 1 roots, 456 extra nodes, 0 pruned nodes, max_depth=8\n",
      "[14:09:59] src/tree/updater_prune.cc:74: tree pruning end, 1 roots, 460 extra nodes, 0 pruned nodes, max_depth=8\n",
      "[14:10:04] src/tree/updater_prune.cc:74: tree pruning end, 1 roots, 444 extra nodes, 0 pruned nodes, max_depth=8\n",
      "[6]\ttrain-mae:1.65525+0.173883\ttest-mae:1.6552+0.175391\n",
      "[14:10:09] src/tree/updater_prune.cc:74: tree pruning end, 1 roots, 414 extra nodes, 0 pruned nodes, max_depth=8\n",
      "[14:10:14] src/tree/updater_prune.cc:74: tree pruning end, 1 roots, 320 extra nodes, 0 pruned nodes, max_depth=8\n",
      "[14:10:19] src/tree/updater_prune.cc:74: tree pruning end, 1 roots, 454 extra nodes, 0 pruned nodes, max_depth=8\n",
      "[14:10:24] src/tree/updater_prune.cc:74: tree pruning end, 1 roots, 482 extra nodes, 0 pruned nodes, max_depth=8\n",
      "[14:10:29] src/tree/updater_prune.cc:74: tree pruning end, 1 roots, 452 extra nodes, 0 pruned nodes, max_depth=8\n",
      "[7]\ttrain-mae:1.16759+0.126618\ttest-mae:1.16765+0.127619\n",
      "[14:10:35] src/tree/updater_prune.cc:74: tree pruning end, 1 roots, 424 extra nodes, 0 pruned nodes, max_depth=8\n",
      "[14:10:39] src/tree/updater_prune.cc:74: tree pruning end, 1 roots, 342 extra nodes, 0 pruned nodes, max_depth=8\n",
      "[14:10:45] src/tree/updater_prune.cc:74: tree pruning end, 1 roots, 480 extra nodes, 0 pruned nodes, max_depth=8\n",
      "[14:10:49] src/tree/updater_prune.cc:74: tree pruning end, 1 roots, 474 extra nodes, 0 pruned nodes, max_depth=8\n",
      "[14:10:54] src/tree/updater_prune.cc:74: tree pruning end, 1 roots, 478 extra nodes, 0 pruned nodes, max_depth=8\n",
      "[8]\ttrain-mae:0.831442+0.100724\ttest-mae:0.831684+0.1015\n",
      "[14:10:59] src/tree/updater_prune.cc:74: tree pruning end, 1 roots, 418 extra nodes, 0 pruned nodes, max_depth=8\n",
      "[14:11:05] src/tree/updater_prune.cc:74: tree pruning end, 1 roots, 372 extra nodes, 0 pruned nodes, max_depth=8\n",
      "[14:11:09] src/tree/updater_prune.cc:74: tree pruning end, 1 roots, 448 extra nodes, 0 pruned nodes, max_depth=8\n",
      "[14:11:14] src/tree/updater_prune.cc:74: tree pruning end, 1 roots, 478 extra nodes, 0 pruned nodes, max_depth=8\n",
      "[14:11:18] src/tree/updater_prune.cc:74: tree pruning end, 1 roots, 480 extra nodes, 0 pruned nodes, max_depth=8\n",
      "[9]\ttrain-mae:0.626057+0.120474\ttest-mae:0.626398+0.12094\n",
      "[14:11:23] src/tree/updater_prune.cc:74: tree pruning end, 1 roots, 464 extra nodes, 0 pruned nodes, max_depth=8\n",
      "[14:11:27] src/tree/updater_prune.cc:74: tree pruning end, 1 roots, 430 extra nodes, 0 pruned nodes, max_depth=8\n",
      "[14:11:34] src/tree/updater_prune.cc:74: tree pruning end, 1 roots, 476 extra nodes, 0 pruned nodes, max_depth=8\n",
      "[14:11:40] src/tree/updater_prune.cc:74: tree pruning end, 1 roots, 492 extra nodes, 0 pruned nodes, max_depth=8\n",
      "[14:11:45] src/tree/updater_prune.cc:74: tree pruning end, 1 roots, 486 extra nodes, 0 pruned nodes, max_depth=8\n",
      "[10]\ttrain-mae:0.493787+0.140917\ttest-mae:0.494263+0.141316\n",
      "[14:11:50] src/tree/updater_prune.cc:74: tree pruning end, 1 roots, 494 extra nodes, 0 pruned nodes, max_depth=8\n",
      "[14:11:57] src/tree/updater_prune.cc:74: tree pruning end, 1 roots, 420 extra nodes, 0 pruned nodes, max_depth=8\n",
      "[14:12:02] src/tree/updater_prune.cc:74: tree pruning end, 1 roots, 444 extra nodes, 0 pruned nodes, max_depth=8\n",
      "[14:12:09] src/tree/updater_prune.cc:74: tree pruning end, 1 roots, 496 extra nodes, 0 pruned nodes, max_depth=8\n",
      "[14:12:13] src/tree/updater_prune.cc:74: tree pruning end, 1 roots, 480 extra nodes, 0 pruned nodes, max_depth=8\n",
      "[11]\ttrain-mae:0.39616+0.105854\ttest-mae:0.396716+0.106298\n",
      "[14:12:16] src/tree/updater_prune.cc:74: tree pruning end, 1 roots, 432 extra nodes, 0 pruned nodes, max_depth=8\n",
      "[14:12:24] src/tree/updater_prune.cc:74: tree pruning end, 1 roots, 456 extra nodes, 0 pruned nodes, max_depth=8\n",
      "[14:12:32] src/tree/updater_prune.cc:74: tree pruning end, 1 roots, 466 extra nodes, 0 pruned nodes, max_depth=8\n",
      "[14:12:38] src/tree/updater_prune.cc:74: tree pruning end, 1 roots, 482 extra nodes, 0 pruned nodes, max_depth=8\n",
      "[14:12:45] src/tree/updater_prune.cc:74: tree pruning end, 1 roots, 504 extra nodes, 0 pruned nodes, max_depth=8\n",
      "[12]\ttrain-mae:0.316021+0.0894766\ttest-mae:0.316654+0.0899204\n",
      "[14:12:51] src/tree/updater_prune.cc:74: tree pruning end, 1 roots, 494 extra nodes, 0 pruned nodes, max_depth=8\n"
     ]
    },
    {
     "name": "stdout",
     "output_type": "stream",
     "text": [
      "[14:13:02] src/tree/updater_prune.cc:74: tree pruning end, 1 roots, 468 extra nodes, 0 pruned nodes, max_depth=8\n",
      "[14:13:09] src/tree/updater_prune.cc:74: tree pruning end, 1 roots, 456 extra nodes, 0 pruned nodes, max_depth=8\n",
      "[14:13:18] src/tree/updater_prune.cc:74: tree pruning end, 1 roots, 456 extra nodes, 0 pruned nodes, max_depth=8\n",
      "[14:13:29] src/tree/updater_prune.cc:74: tree pruning end, 1 roots, 502 extra nodes, 0 pruned nodes, max_depth=8\n",
      "[13]\ttrain-mae:0.260043+0.0816703\ttest-mae:0.260723+0.0820469\n",
      "[14:13:39] src/tree/updater_prune.cc:74: tree pruning end, 1 roots, 450 extra nodes, 0 pruned nodes, max_depth=8\n",
      "[14:13:48] src/tree/updater_prune.cc:74: tree pruning end, 1 roots, 418 extra nodes, 0 pruned nodes, max_depth=8\n",
      "[14:13:56] src/tree/updater_prune.cc:74: tree pruning end, 1 roots, 496 extra nodes, 0 pruned nodes, max_depth=8\n",
      "[14:14:05] src/tree/updater_prune.cc:74: tree pruning end, 1 roots, 486 extra nodes, 0 pruned nodes, max_depth=8\n",
      "[14:14:15] src/tree/updater_prune.cc:74: tree pruning end, 1 roots, 484 extra nodes, 0 pruned nodes, max_depth=8\n",
      "[14]\ttrain-mae:0.221769+0.0798541\ttest-mae:0.222482+0.0802538\n",
      "[14:14:25] src/tree/updater_prune.cc:74: tree pruning end, 1 roots, 472 extra nodes, 0 pruned nodes, max_depth=8\n",
      "[14:14:35] src/tree/updater_prune.cc:74: tree pruning end, 1 roots, 486 extra nodes, 0 pruned nodes, max_depth=8\n",
      "[14:14:44] src/tree/updater_prune.cc:74: tree pruning end, 1 roots, 496 extra nodes, 0 pruned nodes, max_depth=8\n",
      "[14:14:52] src/tree/updater_prune.cc:74: tree pruning end, 1 roots, 470 extra nodes, 0 pruned nodes, max_depth=8\n",
      "[14:15:03] src/tree/updater_prune.cc:74: tree pruning end, 1 roots, 472 extra nodes, 0 pruned nodes, max_depth=8\n",
      "[15]\ttrain-mae:0.199715+0.0865403\ttest-mae:0.200437+0.086942\n",
      "[14:15:11] src/tree/updater_prune.cc:74: tree pruning end, 1 roots, 454 extra nodes, 0 pruned nodes, max_depth=8\n",
      "[14:15:17] src/tree/updater_prune.cc:74: tree pruning end, 1 roots, 484 extra nodes, 0 pruned nodes, max_depth=8\n",
      "[14:15:21] src/tree/updater_prune.cc:74: tree pruning end, 1 roots, 456 extra nodes, 0 pruned nodes, max_depth=8\n",
      "[14:15:28] src/tree/updater_prune.cc:74: tree pruning end, 1 roots, 448 extra nodes, 0 pruned nodes, max_depth=8\n",
      "[14:15:35] src/tree/updater_prune.cc:74: tree pruning end, 1 roots, 468 extra nodes, 0 pruned nodes, max_depth=8\n",
      "[16]\ttrain-mae:0.173321+0.0872282\ttest-mae:0.174054+0.0876079\n",
      "[14:15:42] src/tree/updater_prune.cc:74: tree pruning end, 1 roots, 446 extra nodes, 0 pruned nodes, max_depth=8\n",
      "[14:15:48] src/tree/updater_prune.cc:74: tree pruning end, 1 roots, 468 extra nodes, 0 pruned nodes, max_depth=8\n",
      "[14:15:55] src/tree/updater_prune.cc:74: tree pruning end, 1 roots, 478 extra nodes, 0 pruned nodes, max_depth=8\n",
      "[14:16:02] src/tree/updater_prune.cc:74: tree pruning end, 1 roots, 480 extra nodes, 0 pruned nodes, max_depth=8\n",
      "[14:16:08] src/tree/updater_prune.cc:74: tree pruning end, 1 roots, 472 extra nodes, 0 pruned nodes, max_depth=8\n",
      "[17]\ttrain-mae:0.146765+0.0738557\ttest-mae:0.147472+0.0742288\n",
      "[14:16:14] src/tree/updater_prune.cc:74: tree pruning end, 1 roots, 476 extra nodes, 0 pruned nodes, max_depth=8\n",
      "[14:16:20] src/tree/updater_prune.cc:74: tree pruning end, 1 roots, 472 extra nodes, 0 pruned nodes, max_depth=8\n",
      "[14:16:26] src/tree/updater_prune.cc:74: tree pruning end, 1 roots, 488 extra nodes, 0 pruned nodes, max_depth=8\n",
      "[14:16:32] src/tree/updater_prune.cc:74: tree pruning end, 1 roots, 480 extra nodes, 0 pruned nodes, max_depth=8\n",
      "[14:16:37] src/tree/updater_prune.cc:74: tree pruning end, 1 roots, 482 extra nodes, 0 pruned nodes, max_depth=8\n",
      "[18]\ttrain-mae:0.128307+0.0653388\ttest-mae:0.128994+0.0656959\n",
      "[14:16:43] src/tree/updater_prune.cc:74: tree pruning end, 1 roots, 484 extra nodes, 0 pruned nodes, max_depth=8\n",
      "[14:16:49] src/tree/updater_prune.cc:74: tree pruning end, 1 roots, 472 extra nodes, 0 pruned nodes, max_depth=8\n",
      "[14:16:55] src/tree/updater_prune.cc:74: tree pruning end, 1 roots, 492 extra nodes, 0 pruned nodes, max_depth=8\n",
      "[14:17:01] src/tree/updater_prune.cc:74: tree pruning end, 1 roots, 484 extra nodes, 0 pruned nodes, max_depth=8\n",
      "[14:17:05] src/tree/updater_prune.cc:74: tree pruning end, 1 roots, 504 extra nodes, 0 pruned nodes, max_depth=8\n",
      "[19]\ttrain-mae:0.1129+0.0550641\ttest-mae:0.113591+0.0554625\n",
      "[14:17:11] src/tree/updater_prune.cc:74: tree pruning end, 1 roots, 492 extra nodes, 0 pruned nodes, max_depth=8\n",
      "[14:17:15] src/tree/updater_prune.cc:74: tree pruning end, 1 roots, 506 extra nodes, 0 pruned nodes, max_depth=8\n",
      "[14:17:21] src/tree/updater_prune.cc:74: tree pruning end, 1 roots, 492 extra nodes, 0 pruned nodes, max_depth=8\n",
      "[14:17:25] src/tree/updater_prune.cc:74: tree pruning end, 1 roots, 456 extra nodes, 0 pruned nodes, max_depth=8\n",
      "[14:17:30] src/tree/updater_prune.cc:74: tree pruning end, 1 roots, 430 extra nodes, 0 pruned nodes, max_depth=8\n",
      "[20]\ttrain-mae:0.104935+0.0499265\ttest-mae:0.10563+0.0503511\n",
      "[14:17:36] src/tree/updater_prune.cc:74: tree pruning end, 1 roots, 490 extra nodes, 0 pruned nodes, max_depth=8\n",
      "[14:17:42] src/tree/updater_prune.cc:74: tree pruning end, 1 roots, 464 extra nodes, 0 pruned nodes, max_depth=8\n",
      "[14:17:48] src/tree/updater_prune.cc:74: tree pruning end, 1 roots, 466 extra nodes, 0 pruned nodes, max_depth=8\n",
      "[14:17:52] src/tree/updater_prune.cc:74: tree pruning end, 1 roots, 498 extra nodes, 0 pruned nodes, max_depth=8\n",
      "[14:17:57] src/tree/updater_prune.cc:74: tree pruning end, 1 roots, 482 extra nodes, 0 pruned nodes, max_depth=8\n",
      "[21]\ttrain-mae:0.0983738+0.0465851\ttest-mae:0.0990456+0.0469932\n",
      "[14:18:03] src/tree/updater_prune.cc:74: tree pruning end, 1 roots, 494 extra nodes, 0 pruned nodes, max_depth=8\n",
      "[14:18:09] src/tree/updater_prune.cc:74: tree pruning end, 1 roots, 406 extra nodes, 0 pruned nodes, max_depth=8\n",
      "[14:18:14] src/tree/updater_prune.cc:74: tree pruning end, 1 roots, 468 extra nodes, 0 pruned nodes, max_depth=8\n",
      "[14:18:18] src/tree/updater_prune.cc:74: tree pruning end, 1 roots, 496 extra nodes, 0 pruned nodes, max_depth=8\n",
      "[14:18:23] src/tree/updater_prune.cc:74: tree pruning end, 1 roots, 470 extra nodes, 0 pruned nodes, max_depth=8\n",
      "[22]\ttrain-mae:0.095125+0.0454164\ttest-mae:0.0957982+0.0458192\n",
      "[14:18:29] src/tree/updater_prune.cc:74: tree pruning end, 1 roots, 478 extra nodes, 0 pruned nodes, max_depth=8\n",
      "[14:18:33] src/tree/updater_prune.cc:74: tree pruning end, 1 roots, 424 extra nodes, 0 pruned nodes, max_depth=8\n",
      "[14:18:38] src/tree/updater_prune.cc:74: tree pruning end, 1 roots, 484 extra nodes, 0 pruned nodes, max_depth=8\n",
      "[14:18:44] src/tree/updater_prune.cc:74: tree pruning end, 1 roots, 438 extra nodes, 0 pruned nodes, max_depth=8\n",
      "[14:18:49] src/tree/updater_prune.cc:74: tree pruning end, 1 roots, 500 extra nodes, 0 pruned nodes, max_depth=8\n",
      "[23]\ttrain-mae:0.0902896+0.0425371\ttest-mae:0.0909546+0.0429205\n",
      "[14:18:54] src/tree/updater_prune.cc:74: tree pruning end, 1 roots, 500 extra nodes, 0 pruned nodes, max_depth=8\n",
      "[14:18:57] src/tree/updater_prune.cc:74: tree pruning end, 1 roots, 444 extra nodes, 0 pruned nodes, max_depth=8\n",
      "[14:19:03] src/tree/updater_prune.cc:74: tree pruning end, 1 roots, 452 extra nodes, 0 pruned nodes, max_depth=8\n",
      "[14:19:07] src/tree/updater_prune.cc:74: tree pruning end, 1 roots, 492 extra nodes, 0 pruned nodes, max_depth=8\n",
      "[14:19:10] src/tree/updater_prune.cc:74: tree pruning end, 1 roots, 484 extra nodes, 0 pruned nodes, max_depth=8\n",
      "[24]\ttrain-mae:0.0854094+0.040551\ttest-mae:0.08607+0.0409521\n",
      "[14:19:17] src/tree/updater_prune.cc:74: tree pruning end, 1 roots, 468 extra nodes, 0 pruned nodes, max_depth=8\n",
      "[14:19:22] src/tree/updater_prune.cc:74: tree pruning end, 1 roots, 412 extra nodes, 0 pruned nodes, max_depth=8\n",
      "[14:19:27] src/tree/updater_prune.cc:74: tree pruning end, 1 roots, 478 extra nodes, 0 pruned nodes, max_depth=8\n",
      "[14:19:32] src/tree/updater_prune.cc:74: tree pruning end, 1 roots, 470 extra nodes, 0 pruned nodes, max_depth=8\n",
      "[14:19:38] src/tree/updater_prune.cc:74: tree pruning end, 1 roots, 478 extra nodes, 0 pruned nodes, max_depth=8\n",
      "[25]\ttrain-mae:0.0816592+0.0381807\ttest-mae:0.0823256+0.0385782\n",
      "[14:19:44] src/tree/updater_prune.cc:74: tree pruning end, 1 roots, 474 extra nodes, 0 pruned nodes, max_depth=8\n",
      "[14:19:49] src/tree/updater_prune.cc:74: tree pruning end, 1 roots, 404 extra nodes, 0 pruned nodes, max_depth=8\n"
     ]
    },
    {
     "name": "stdout",
     "output_type": "stream",
     "text": [
      "[14:19:55] src/tree/updater_prune.cc:74: tree pruning end, 1 roots, 490 extra nodes, 0 pruned nodes, max_depth=8\n",
      "[14:19:59] src/tree/updater_prune.cc:74: tree pruning end, 1 roots, 508 extra nodes, 0 pruned nodes, max_depth=8\n",
      "[14:20:03] src/tree/updater_prune.cc:74: tree pruning end, 1 roots, 456 extra nodes, 0 pruned nodes, max_depth=8\n",
      "[26]\ttrain-mae:0.0787372+0.0358865\ttest-mae:0.0793968+0.0362763\n",
      "[14:20:08] src/tree/updater_prune.cc:74: tree pruning end, 1 roots, 486 extra nodes, 0 pruned nodes, max_depth=8\n",
      "[14:20:12] src/tree/updater_prune.cc:74: tree pruning end, 1 roots, 484 extra nodes, 0 pruned nodes, max_depth=8\n",
      "[14:20:17] src/tree/updater_prune.cc:74: tree pruning end, 1 roots, 478 extra nodes, 0 pruned nodes, max_depth=8\n",
      "[14:20:21] src/tree/updater_prune.cc:74: tree pruning end, 1 roots, 504 extra nodes, 0 pruned nodes, max_depth=8\n",
      "[14:20:26] src/tree/updater_prune.cc:74: tree pruning end, 1 roots, 462 extra nodes, 0 pruned nodes, max_depth=8\n",
      "[27]\ttrain-mae:0.077136+0.0347519\ttest-mae:0.0778096+0.0351473\n",
      "[14:20:31] src/tree/updater_prune.cc:74: tree pruning end, 1 roots, 448 extra nodes, 0 pruned nodes, max_depth=8\n",
      "[14:20:37] src/tree/updater_prune.cc:74: tree pruning end, 1 roots, 344 extra nodes, 0 pruned nodes, max_depth=8\n",
      "[14:20:43] src/tree/updater_prune.cc:74: tree pruning end, 1 roots, 490 extra nodes, 0 pruned nodes, max_depth=8\n",
      "[14:20:47] src/tree/updater_prune.cc:74: tree pruning end, 1 roots, 468 extra nodes, 0 pruned nodes, max_depth=8\n",
      "[14:20:52] src/tree/updater_prune.cc:74: tree pruning end, 1 roots, 410 extra nodes, 0 pruned nodes, max_depth=8\n",
      "[28]\ttrain-mae:0.0758396+0.0337342\ttest-mae:0.076529+0.0341436\n",
      "[14:20:58] src/tree/updater_prune.cc:74: tree pruning end, 1 roots, 508 extra nodes, 0 pruned nodes, max_depth=8\n",
      "[14:21:03] src/tree/updater_prune.cc:74: tree pruning end, 1 roots, 346 extra nodes, 0 pruned nodes, max_depth=8\n",
      "[14:21:07] src/tree/updater_prune.cc:74: tree pruning end, 1 roots, 490 extra nodes, 0 pruned nodes, max_depth=8\n",
      "[14:21:11] src/tree/updater_prune.cc:74: tree pruning end, 1 roots, 452 extra nodes, 0 pruned nodes, max_depth=8\n",
      "[14:21:16] src/tree/updater_prune.cc:74: tree pruning end, 1 roots, 416 extra nodes, 0 pruned nodes, max_depth=8\n",
      "[29]\ttrain-mae:0.0735784+0.0333429\ttest-mae:0.0742684+0.0337652\n",
      "[14:21:22] src/tree/updater_prune.cc:74: tree pruning end, 1 roots, 424 extra nodes, 0 pruned nodes, max_depth=8\n",
      "[14:21:26] src/tree/updater_prune.cc:74: tree pruning end, 1 roots, 480 extra nodes, 0 pruned nodes, max_depth=8\n",
      "[14:21:29] src/tree/updater_prune.cc:74: tree pruning end, 1 roots, 496 extra nodes, 0 pruned nodes, max_depth=8\n",
      "[14:21:35] src/tree/updater_prune.cc:74: tree pruning end, 1 roots, 470 extra nodes, 0 pruned nodes, max_depth=8\n",
      "[14:21:41] src/tree/updater_prune.cc:74: tree pruning end, 1 roots, 368 extra nodes, 0 pruned nodes, max_depth=8\n",
      "[30]\ttrain-mae:0.0713082+0.0316891\ttest-mae:0.0719968+0.0321055\n",
      "[14:21:46] src/tree/updater_prune.cc:74: tree pruning end, 1 roots, 368 extra nodes, 0 pruned nodes, max_depth=8\n",
      "[14:21:51] src/tree/updater_prune.cc:74: tree pruning end, 1 roots, 466 extra nodes, 0 pruned nodes, max_depth=8\n",
      "[14:21:56] src/tree/updater_prune.cc:74: tree pruning end, 1 roots, 462 extra nodes, 0 pruned nodes, max_depth=8\n",
      "[14:22:02] src/tree/updater_prune.cc:74: tree pruning end, 1 roots, 474 extra nodes, 0 pruned nodes, max_depth=8\n",
      "[14:22:07] src/tree/updater_prune.cc:74: tree pruning end, 1 roots, 440 extra nodes, 0 pruned nodes, max_depth=8\n",
      "[31]\ttrain-mae:0.0695258+0.0305521\ttest-mae:0.0702252+0.0309762\n",
      "[14:22:13] src/tree/updater_prune.cc:74: tree pruning end, 1 roots, 450 extra nodes, 0 pruned nodes, max_depth=8\n",
      "[14:22:17] src/tree/updater_prune.cc:74: tree pruning end, 1 roots, 472 extra nodes, 0 pruned nodes, max_depth=8\n",
      "[14:22:23] src/tree/updater_prune.cc:74: tree pruning end, 1 roots, 476 extra nodes, 0 pruned nodes, max_depth=8\n",
      "[14:22:28] src/tree/updater_prune.cc:74: tree pruning end, 1 roots, 472 extra nodes, 0 pruned nodes, max_depth=8\n",
      "[14:22:33] src/tree/updater_prune.cc:74: tree pruning end, 1 roots, 406 extra nodes, 0 pruned nodes, max_depth=8\n",
      "[32]\ttrain-mae:0.0679292+0.0292651\ttest-mae:0.0686322+0.0296895\n",
      "[14:22:39] src/tree/updater_prune.cc:74: tree pruning end, 1 roots, 498 extra nodes, 0 pruned nodes, max_depth=8\n",
      "[14:22:44] src/tree/updater_prune.cc:74: tree pruning end, 1 roots, 304 extra nodes, 0 pruned nodes, max_depth=8\n",
      "[14:22:48] src/tree/updater_prune.cc:74: tree pruning end, 1 roots, 510 extra nodes, 0 pruned nodes, max_depth=8\n",
      "[14:22:52] src/tree/updater_prune.cc:74: tree pruning end, 1 roots, 498 extra nodes, 0 pruned nodes, max_depth=8\n",
      "[14:22:58] src/tree/updater_prune.cc:74: tree pruning end, 1 roots, 434 extra nodes, 0 pruned nodes, max_depth=8\n",
      "[33]\ttrain-mae:0.0661228+0.0278056\ttest-mae:0.0668232+0.0282259\n",
      "[14:23:02] src/tree/updater_prune.cc:74: tree pruning end, 1 roots, 482 extra nodes, 0 pruned nodes, max_depth=8\n",
      "[14:23:06] src/tree/updater_prune.cc:74: tree pruning end, 1 roots, 448 extra nodes, 0 pruned nodes, max_depth=8\n",
      "[14:23:12] src/tree/updater_prune.cc:74: tree pruning end, 1 roots, 426 extra nodes, 0 pruned nodes, max_depth=8\n",
      "[14:23:15] src/tree/updater_prune.cc:74: tree pruning end, 1 roots, 482 extra nodes, 0 pruned nodes, max_depth=8\n",
      "[14:23:21] src/tree/updater_prune.cc:74: tree pruning end, 1 roots, 310 extra nodes, 0 pruned nodes, max_depth=8\n",
      "[34]\ttrain-mae:0.0652686+0.0271398\ttest-mae:0.0659738+0.0275604\n",
      "[14:23:27] src/tree/updater_prune.cc:74: tree pruning end, 1 roots, 436 extra nodes, 0 pruned nodes, max_depth=8\n",
      "[14:23:31] src/tree/updater_prune.cc:74: tree pruning end, 1 roots, 462 extra nodes, 0 pruned nodes, max_depth=8\n",
      "[14:23:36] src/tree/updater_prune.cc:74: tree pruning end, 1 roots, 450 extra nodes, 0 pruned nodes, max_depth=8\n",
      "[14:23:42] src/tree/updater_prune.cc:74: tree pruning end, 1 roots, 462 extra nodes, 0 pruned nodes, max_depth=8\n",
      "[14:23:47] src/tree/updater_prune.cc:74: tree pruning end, 1 roots, 404 extra nodes, 0 pruned nodes, max_depth=8\n",
      "[35]\ttrain-mae:0.0644826+0.0265441\ttest-mae:0.0651898+0.0269632\n",
      "[14:23:53] src/tree/updater_prune.cc:74: tree pruning end, 1 roots, 430 extra nodes, 0 pruned nodes, max_depth=8\n",
      "[14:23:58] src/tree/updater_prune.cc:74: tree pruning end, 1 roots, 332 extra nodes, 0 pruned nodes, max_depth=8\n",
      "[14:24:02] src/tree/updater_prune.cc:74: tree pruning end, 1 roots, 504 extra nodes, 0 pruned nodes, max_depth=8\n",
      "[14:24:06] src/tree/updater_prune.cc:74: tree pruning end, 1 roots, 500 extra nodes, 0 pruned nodes, max_depth=8\n",
      "[14:24:11] src/tree/updater_prune.cc:74: tree pruning end, 1 roots, 408 extra nodes, 0 pruned nodes, max_depth=8\n",
      "[36]\ttrain-mae:0.063384+0.0256493\ttest-mae:0.064094+0.0260718\n",
      "[14:24:15] src/tree/updater_prune.cc:74: tree pruning end, 1 roots, 498 extra nodes, 0 pruned nodes, max_depth=8\n",
      "[14:24:19] src/tree/updater_prune.cc:74: tree pruning end, 1 roots, 436 extra nodes, 0 pruned nodes, max_depth=8\n",
      "[14:24:24] src/tree/updater_prune.cc:74: tree pruning end, 1 roots, 488 extra nodes, 0 pruned nodes, max_depth=8\n"
     ]
    }
   ],
   "source": [
    "res = xgb.cv(params,\n",
    "             dtrain,\n",
    "             num_boost_round = 4000,\n",
    "             folds=skf,\n",
    "             seed=2019,\n",
    "             early_stopping_rounds = 10,\n",
    "             verbose_eval=True)"
   ]
  },
  {
   "cell_type": "code",
   "execution_count": null,
   "metadata": {},
   "outputs": [],
   "source": [
    "best_round=[i for i, e in enumerate(res['test-mae-mean']) if e == min(res['test-mae-mean'])][0]"
   ]
  },
  {
   "cell_type": "code",
   "execution_count": null,
   "metadata": {},
   "outputs": [],
   "source": [
    "best_round"
   ]
  },
  {
   "cell_type": "code",
   "execution_count": null,
   "metadata": {},
   "outputs": [],
   "source": [
    "res.iloc[best_round]"
   ]
  },
  {
   "cell_type": "code",
   "execution_count": null,
   "metadata": {},
   "outputs": [],
   "source": [
    "model = xgb.train(params = params, dtrain = dtrain, num_boost_round = best_round)"
   ]
  },
  {
   "cell_type": "code",
   "execution_count": null,
   "metadata": {},
   "outputs": [],
   "source": [
    "test.info()"
   ]
  },
  {
   "cell_type": "code",
   "execution_count": null,
   "metadata": {},
   "outputs": [],
   "source": [
    "test.drop(columns=['id']);"
   ]
  },
  {
   "cell_type": "code",
   "execution_count": null,
   "metadata": {},
   "outputs": [],
   "source": [
    "dtest = xgb.DMatrix(test)"
   ]
  },
  {
   "cell_type": "code",
   "execution_count": null,
   "metadata": {},
   "outputs": [],
   "source": [
    "train.info()"
   ]
  },
  {
   "cell_type": "code",
   "execution_count": null,
   "metadata": {},
   "outputs": [],
   "source": [
    "train = train.drop(['id'], axis=1);"
   ]
  },
  {
   "cell_type": "code",
   "execution_count": null,
   "metadata": {},
   "outputs": [],
   "source": [
    "train.info()"
   ]
  },
  {
   "cell_type": "code",
   "execution_count": null,
   "metadata": {},
   "outputs": [],
   "source": [
    "ypred = model.predict(dtest)"
   ]
  },
  {
   "cell_type": "markdown",
   "metadata": {},
   "source": [
    "# Predictions"
   ]
  }
 ],
 "metadata": {
  "kernelspec": {
   "display_name": "Python 3",
   "language": "python",
   "name": "python3"
  },
  "language_info": {
   "codemirror_mode": {
    "name": "ipython",
    "version": 3
   },
   "file_extension": ".py",
   "mimetype": "text/x-python",
   "name": "python",
   "nbconvert_exporter": "python",
   "pygments_lexer": "ipython3",
   "version": "3.6.8"
  }
 },
 "nbformat": 4,
 "nbformat_minor": 2
}
